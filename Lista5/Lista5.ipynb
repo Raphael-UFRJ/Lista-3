{
  "nbformat": 4,
  "nbformat_minor": 0,
  "metadata": {
    "colab": {
      "provenance": []
    },
    "kernelspec": {
      "name": "ir",
      "display_name": "R"
    },
    "language_info": {
      "name": "R"
    }
  },
  "cells": [
    {
      "cell_type": "markdown",
      "source": [
        "1-Este problema descreve, de forma fictícia, o que é entendido como uma das causas da gande crise do mercado financeiro americano de 2007. A solução do Banco Central americano, chamada de QE (Quantitative Easing) foi emprestar dinheiro a juros negativos...e os reflexos são sentidos até hoje.\n",
        "\n",
        "Um investidor quer aplicar \\$10M em investimentos imobilarios. Foi oferecido a ele a chance de dividir o total em um conjunto de 10 aplicações distintas porém com as mesmas características de risco. O retorno de cada um dos ativos é distribuido normalmente com média de $1M\n",
        "\n",
        "com um desvio padrão de $1.3M. O investidor acredita que individualmente os investimentos não são atrativos mas, ao montar uma carteira com 10 investimentos identicos, seu risco de perda diminuir á consideravelmente.\n",
        "\n",
        "Será isto verdade?\n",
        "\n",
        "Calcule a probabilidade de perda (P rob[retorno total < 0]) no investimento da carteira quando o coeficiente de correlação (ρ) entre os ativos for igual a: (0, 0.25,0.50,0.75,0.90) respectivamente. Este caso modela as situações onde os investimentos são completamente não correlacianados ρ = 0 até quando são fortemente correlacionados ρ = 0.9"
      ],
      "metadata": {
        "id": "D62KXS1yKhS0"
      }
    },
    {
      "cell_type": "markdown",
      "source": [
        "Definir as variáveis principais, como o número de investimentos, o retorno médio e o desvio padrão dos retornos individuais."
      ],
      "metadata": {
        "id": "iQFmvqffLDKK"
      }
    },
    {
      "cell_type": "code",
      "execution_count": 1,
      "metadata": {
        "id": "uir1Mpu8KfQm"
      },
      "outputs": [],
      "source": [
        "# Número de investimentos\n",
        "n <- 10\n",
        "\n",
        "# Média do retorno de cada investimento\n",
        "mu <- 1e6\n",
        "\n",
        "# Desvio padrão do retorno de cada investimento\n",
        "sigma <- 1.3e6"
      ]
    },
    {
      "cell_type": "markdown",
      "source": [
        "### Vetor com os coeficientes de correlação\n",
        "\n",
        "Nomeado em homenagem a Charles Spearman, é frequentemente denotado pela letra grega 'ρ' (rho) e é usado principalmente para análise de dados. Mede a força e a direção da associação entre duas variáveis classificadas."
      ],
      "metadata": {
        "id": "ZdLyDSTjLU_8"
      }
    },
    {
      "cell_type": "code",
      "source": [
        "rho_valores <- c(0, 0.25, 0.5, 0.75, 0.9)"
      ],
      "metadata": {
        "id": "KESj3oUiLXXv"
      },
      "execution_count": 2,
      "outputs": []
    },
    {
      "cell_type": "markdown",
      "source": [
        "### Função para calcular a probabilidade de perda para um dado coeficiente de correlação"
      ],
      "metadata": {
        "id": "d4nlcejTLm3X"
      }
    },
    {
      "cell_type": "code",
      "source": [
        "calc_probabilidade_perda <- function(rho) {\n",
        "  # Retorno total esperado da carteira\n",
        "  retorno_total_esperado <- n * mu\n",
        "\n",
        "  # Variância da carteira\n",
        "  var_carteira <- n * sigma^2 + n * (n - 1) * rho * sigma^2\n",
        "\n",
        "  # Desvio padrão da carteira\n",
        "  sd_carteira <- sqrt(var_carteira)\n",
        "\n",
        "  # Calculando a probabilidade de perda (retorno total < 0)\n",
        "  probabilidade_perda <- pnorm(0, mean = retorno_total_esperado, sd = sd_carteira)\n",
        "\n",
        "  return(probabilidade_perda)\n",
        "}"
      ],
      "metadata": {
        "id": "EgLky_MbLtY-"
      },
      "execution_count": 3,
      "outputs": []
    },
    {
      "cell_type": "markdown",
      "source": [
        "### Calculando as probabilidades de perda para cada coeficiente de correlação"
      ],
      "metadata": {
        "id": "G64N7E_3L2t6"
      }
    },
    {
      "cell_type": "code",
      "source": [
        "probabilidades_perda <- sapply(rho_valores, calc_probabilidade_perda)\n",
        "\n",
        "# Exibindo os resultados\n",
        "resultados <- data.frame(rho = rho_valores, probabilidade_perda = probabilidades_perda)\n",
        "print(resultados)"
      ],
      "metadata": {
        "colab": {
          "base_uri": "https://localhost:8080/"
        },
        "id": "_drkt7hZL6BE",
        "outputId": "22bd1d28-b3d3-4581-fe76-229529f8a3f1"
      },
      "execution_count": 4,
      "outputs": [
        {
          "output_type": "stream",
          "name": "stdout",
          "text": [
            "   rho probabilidade_perda\n",
            "1 0.00         0.007497055\n",
            "2 0.25         0.088617097\n",
            "3 0.50         0.149814210\n",
            "4 0.75         0.191117012\n",
            "5 0.90         0.210013919\n"
          ]
        }
      ]
    },
    {
      "cell_type": "markdown",
      "source": [
        "# Geração de amostras normais correlacionadas em R\n",
        "\n",
        "Método\n",
        "1. instalar o pacote MASS\n",
        "2. usar a função mvrnorm(m,mu,Sigma): retorna uma lista de m\n",
        "amostras de (n) vari ́aveis aleat ́orias normalmente distribuidas.\n",
        "- m: n ́umero de amostras\n",
        "- mu: vetor das m ́edias das n vari ́aveis\n",
        "- Sigma: matriz da covariância entre as n variáveis:\n",
        "- Sigma[i,j]=cov(i,j)\n",
        "- Sigma: sim ́etrica e positiva-definida (consistente).\n",
        "\n",
        "Exemplo:\n",
        "\n",
        "    x←mvrnorm(500,mu=c(0,0),Sigma=matrix(c(1,1,1,1),ncol=2))\n",
        "\n",
        "# Gerando a matriz de covariancia a partir do coeficiente de correlação\n",
        "Seja R be a matriz de correlação, S o vetor de desvios, e S.S o\n",
        "vetor de variancias. Então:\n",
        "\n",
        "    CV=diag(S) R diag(S)\n",
        "onde CV é a matriz de covariancias.\n",
        "\n",
        "Exemplo:\n",
        "1. sd<-0.9\n",
        "2. R<-matrix(rep(sd,100),nrow=10,ncol=10)\n",
        "3. diag(R)<-1\n",
        "4. s<-rep(1.3,10)\n",
        "5. S<-diag(s)\n",
        "6. CV<-S%*%R%*%S\n",
        "\n",
        "# Geração de amostras triangulares correlacionadas em R\n",
        "\n",
        "Algoritmo para gerar n VAs distintas (V1,V2,..Vn), interligadas por uma matriz de correlação A [n,n]\n",
        "\n",
        "1. gerar Z[m,n]: m n-plas amostras normais reduzidas correlacionadas por A\n",
        "Z ← mvrnorm(m, mu = rep(0,times = n), Sigma = A)\n",
        "2. gerar U com m n-plas uniformes\n",
        "U ← pnorm(Z)\n",
        "3. gerar matriz de triangulares correlacionadas\n",
        "T[, 1] ← qtriangle(U[, 1], min1, max1, mp1)\n",
        "\n",
        "# Geraçãoo de amostras correlacionadas (não-paramétrica)\n",
        "Algoritmo não-paramétrico de Iman&Conover\n",
        "\n",
        "Entradas:\n",
        "- X[N, k]: matriz de amostras não correlacionadas C:matriz de correlação de Spearman entre as k variáveis\n",
        "Saida:\n",
        "- Y[N,k]: matriz de amostras correlacionas por C\n",
        "$\\sqrt{3x-1}+(1+x)^2$\n",
        "Passos\n",
        "1. ache $P.P^T = C$\n",
        "2. R ← matrix[N, k]\n",
        "3. $S ← φ-^1(i/N + 1) ∀i ∈ {1..N}$\n",
        "4. R[, j] ← perm(S) ∀j ∈ {1..k}\n",
        "5. R* ← $R.P^T$\n",
        "6. $Y[, j] ← X^*[, j]$ que tem a mesma ordem que $R^*[, j]$"
      ],
      "metadata": {
        "id": "H0Yua7HIMJhf"
      }
    },
    {
      "cell_type": "code",
      "source": [
        "install.packages(\"MASS\")\n",
        "library(MASS)"
      ],
      "metadata": {
        "colab": {
          "base_uri": "https://localhost:8080/"
        },
        "id": "zP-qQbzATcEP",
        "outputId": "e314d5b7-dad8-4ad8-f0a7-7a58bdf4705c"
      },
      "execution_count": 5,
      "outputs": [
        {
          "output_type": "stream",
          "name": "stderr",
          "text": [
            "Installing package into ‘/usr/local/lib/R/site-library’\n",
            "(as ‘lib’ is unspecified)\n",
            "\n"
          ]
        }
      ]
    },
    {
      "cell_type": "markdown",
      "source": [
        "### Definir as variáveis principais, como o número de investimentos, o retorno médio e o desvio padrão dos retornos individuais."
      ],
      "metadata": {
        "id": "timcRxcNTjYR"
      }
    },
    {
      "cell_type": "code",
      "source": [
        "# Número de investimentos\n",
        "n <- 10\n",
        "\n",
        "# Média do retorno de cada investimento\n",
        "mu <- 1e6\n",
        "\n",
        "# Desvio padrão do retorno de cada investimento\n",
        "sigma <- 1.3e6\n",
        "\n",
        "# Número de simulações\n",
        "num_simulacoes <- 100000"
      ],
      "metadata": {
        "id": "hzmSz18JTjsO"
      },
      "execution_count": 6,
      "outputs": []
    },
    {
      "cell_type": "markdown",
      "source": [
        "### Vetor com os coeficientes de correlação\n",
        "\n",
        "Nomeado em homenagem a Charles Spearman, é frequentemente denotado pela letra grega 'ρ' (rho) e é usado principalmente para análise de dados. Mede a força e a direção da associação entre duas variáveis classificadas."
      ],
      "metadata": {
        "id": "Ir_qMk3lTsek"
      }
    },
    {
      "cell_type": "code",
      "source": [
        "rho_valores <- c(0, 0.25, 0.5, 0.75, 0.9)"
      ],
      "metadata": {
        "id": "mH7Km6xBTv6O"
      },
      "execution_count": 8,
      "outputs": []
    },
    {
      "cell_type": "markdown",
      "source": [
        "### Função para calcular a probabilidade de perda para um dado coeficiente de correlação"
      ],
      "metadata": {
        "id": "k0IjYglQT1jY"
      }
    },
    {
      "cell_type": "code",
      "source": [
        "calc_probabilidade_perda <- function(rho) {\n",
        "  # Matriz de correlação\n",
        "  R <- matrix(rho, n, n)\n",
        "  diag(R) <- 1\n",
        "\n",
        "  # Vetor de desvios padrão\n",
        "  s <- rep(sigma, n)\n",
        "\n",
        "  # Matriz de covariância\n",
        "  S <- diag(s)\n",
        "  CV <- S %*% R %*% S\n",
        "\n",
        "  # Gerando amostras normais correlacionadas\n",
        "  amostras <- mvrnorm(num_simulacoes, mu = rep(mu, n), Sigma = CV)\n",
        "\n",
        "  # Calculando os retornos totais\n",
        "  retornos_totais <- rowSums(amostras)\n",
        "\n",
        "  # Calculando a probabilidade de perda (retorno total < 0)\n",
        "  probabilidade_perda <- mean(retornos_totais < 0)\n",
        "\n",
        "  return(probabilidade_perda)\n",
        "}"
      ],
      "metadata": {
        "id": "OjsQ-_9bT46A"
      },
      "execution_count": 7,
      "outputs": []
    },
    {
      "cell_type": "markdown",
      "source": [
        "### Calculando as probabilidades de perda para cada coeficiente de correlação"
      ],
      "metadata": {
        "id": "LRbE3WRhUBVN"
      }
    },
    {
      "cell_type": "code",
      "source": [
        "probabilidades_perda <- sapply(rho_valores, calc_probabilidade_perda)\n",
        "\n",
        "# Exibindo os resultados\n",
        "resultados <- data.frame(rho = rho_valores, probabilidade_perda = probabilidades_perda)\n",
        "print(resultados)"
      ],
      "metadata": {
        "colab": {
          "base_uri": "https://localhost:8080/"
        },
        "id": "VZvD9yT8UE25",
        "outputId": "4daee8a0-ce43-4946-ca8c-490f58f6ad45"
      },
      "execution_count": 9,
      "outputs": [
        {
          "output_type": "stream",
          "name": "stdout",
          "text": [
            "   rho probabilidade_perda\n",
            "1 0.00             0.00742\n",
            "2 0.25             0.08943\n",
            "3 0.50             0.15037\n",
            "4 0.75             0.19155\n",
            "5 0.90             0.21229\n"
          ]
        }
      ]
    }
  ]
}