{
  "nbformat": 4,
  "nbformat_minor": 0,
  "metadata": {
    "colab": {
      "provenance": []
    },
    "kernelspec": {
      "name": "ir",
      "display_name": "R"
    },
    "language_info": {
      "name": "R"
    }
  },
  "cells": [
    {
      "cell_type": "markdown",
      "source": [
        "# Lista 6\n",
        "\n",
        "Modelo CER de ativos correlacionados\n",
        "1. Importar dados do Yahoo contendo a série histórica dos últimos 12 meses das\n",
        "ações da Petrobrás, Vale, Ambev e Banco do Brasil.\n",
        "2. Estime os parâmetros do modelo CER de cada um dos ativos\n",
        "3. Verifique a sua normalidade\n",
        "4. Calcule a matriz de correlação empirica entre esses ativos.\n",
        "5. Compare os resultados da simulação MC do CER correlacionado com os respectivos dados históricos.\n",
        "6. Estime os valores dos ativos em Dezembro/2024"
      ],
      "metadata": {
        "id": "KpOFKSpZMayY"
      }
    },
    {
      "cell_type": "markdown",
      "source": [
        "## 1. Importar Dados do Yahoo Finance"
      ],
      "metadata": {
        "id": "mJTuZow_RyGm"
      }
    },
    {
      "cell_type": "markdown",
      "source": [
        "- Utilizando a biblioteca quantmod para obter os dados históricos dos últimos 12 meses das ações da Petrobrás (PETR4.SA), Vale (VALE3.SA), Ambev (ABEV3.SA) e Banco do Brasil (BBAS3.SA)."
      ],
      "metadata": {
        "id": "0eBmkfoqLwKx"
      }
    },
    {
      "cell_type": "markdown",
      "source": [
        "### Instalar e carregar as bibliotecas necessárias\n",
        "\n",
        "- [quantmod](https://www.quantmod.com)\n",
        "  - Uso: Para importar dados financeiros históricos de várias fontes, incluindo Yahoo Finance. Utilizamos essa biblioteca para obter os preços ajustados das ações da Petrobrás, Vale, Ambev e Banco do Brasil.\n",
        "- [tseries](https://uribo.github.io/rpkg_showcase/date_and_time/tseries.html)\n",
        "  - Uso: Para realizar testes estatísticos. Utilizamos essa biblioteca para aplicar o teste de Jarque-Bera e verificar a normalidade dos retornos dos ativos.\n",
        "- [PerformanceAnalytics](https://github.com/braverock/PerformanceAnalytics)\n",
        "  - Uso: Para realizar análises de desempenho de investimentos. Utilizamos essa biblioteca para calcular retornos e realizar outras operações relacionadas a desempenho de ativos financeiros.\n",
        "- [MASS](https://www.stats.ox.ac.uk/pub/MASS4/)\n",
        "  - Uso: Para gerar amostras de distribuições multivariadas. Utilizamos essa biblioteca para simular retornos futuros dos ativos utilizando a matriz de covariância estimada."
      ],
      "metadata": {
        "id": "i_nVcSmMRBCG"
      }
    },
    {
      "cell_type": "code",
      "execution_count": 2,
      "metadata": {
        "colab": {
          "base_uri": "https://localhost:8080/"
        },
        "id": "ANIF_U5YLqUe",
        "outputId": "b787adbb-d733-4d83-c698-5135965150ab"
      },
      "outputs": [
        {
          "output_type": "stream",
          "name": "stderr",
          "text": [
            "Installing package into ‘/usr/local/lib/R/site-library’\n",
            "(as ‘lib’ is unspecified)\n",
            "\n",
            "Installing package into ‘/usr/local/lib/R/site-library’\n",
            "(as ‘lib’ is unspecified)\n",
            "\n",
            "Installing package into ‘/usr/local/lib/R/site-library’\n",
            "(as ‘lib’ is unspecified)\n",
            "\n",
            "Installing package into ‘/usr/local/lib/R/site-library’\n",
            "(as ‘lib’ is unspecified)\n",
            "\n"
          ]
        }
      ],
      "source": [
        "install.packages(\"quantmod\")\n",
        "install.packages(\"tseries\")\n",
        "install.packages(\"PerformanceAnalytics\")\n",
        "install.packages(\"MASS\")"
      ]
    },
    {
      "cell_type": "code",
      "source": [
        "library(quantmod)\n",
        "library(tseries)\n",
        "library(PerformanceAnalytics)\n",
        "library(MASS)"
      ],
      "metadata": {
        "colab": {
          "base_uri": "https://localhost:8080/"
        },
        "id": "TErZY-IcM5p4",
        "outputId": "77e61d88-5822-4177-b918-8e719a77a384"
      },
      "execution_count": 3,
      "outputs": [
        {
          "output_type": "stream",
          "name": "stderr",
          "text": [
            "Loading required package: xts\n",
            "\n",
            "Loading required package: zoo\n",
            "\n",
            "\n",
            "Attaching package: ‘zoo’\n",
            "\n",
            "\n",
            "The following objects are masked from ‘package:base’:\n",
            "\n",
            "    as.Date, as.Date.numeric\n",
            "\n",
            "\n",
            "Loading required package: TTR\n",
            "\n",
            "Registered S3 method overwritten by 'quantmod':\n",
            "  method            from\n",
            "  as.zoo.data.frame zoo \n",
            "\n",
            "\n",
            "Attaching package: ‘PerformanceAnalytics’\n",
            "\n",
            "\n",
            "The following object is masked from ‘package:graphics’:\n",
            "\n",
            "    legend\n",
            "\n",
            "\n"
          ]
        }
      ]
    },
    {
      "cell_type": "markdown",
      "source": [
        "### Definir os símbolos dos ativos"
      ],
      "metadata": {
        "id": "Ab064hL6RDuB"
      }
    },
    {
      "cell_type": "code",
      "source": [
        "simbolos <- c(\"PETR4.SA\", \"VALE3.SA\", \"ABEV3.SA\", \"BBAS3.SA\")"
      ],
      "metadata": {
        "id": "Wpam9dMtRKXR"
      },
      "execution_count": 4,
      "outputs": []
    },
    {
      "cell_type": "markdown",
      "source": [
        "### Obter os dados dos últimos 12 meses"
      ],
      "metadata": {
        "id": "VjyYY3R5ROhQ"
      }
    },
    {
      "cell_type": "markdown",
      "source": [
        "- getSymbols: Esta é uma função do pacote quantmod que importa dados financeiros de várias fontes. quantmod significa \"Quantitative Financial Modelling Framework\".\n",
        "- src = \"yahoo\": Este argumento define a fonte dos dados. \"yahoo\" indica que os dados serão importados do Yahoo Finance.\n",
        "- from = Sys.Date() - 365: Este argumento define a data de início para a importação dos dados. Sys.Date() retorna a data atual, e Sys.Date() - 365 calcula a data exatamente um ano antes da data atual. Assim, os dados serão importados a partir de um ano atrás.\n",
        "- to = Sys.Date(): Este argumento define a data final para a importação dos dados, que é a data atual (Sys.Date())."
      ],
      "metadata": {
        "id": "Wf6aKtQASCN3"
      }
    },
    {
      "cell_type": "markdown",
      "source": [
        "### Resumindo\n",
        "\n",
        "- Baixa os dados históricos para cada ativo, começando de Sys.Date() - 365 (um ano atrás) até Sys.Date() (data atual).\n",
        "- Armazena os dados em objetos no seu ambiente de trabalho cada objeto terá o nome correspondente ao símbolo do ativo."
      ],
      "metadata": {
        "id": "7K2I0Nm0UWlq"
      }
    },
    {
      "cell_type": "code",
      "source": [
        "getSymbols(simbolos, src = \"yahoo\", from = Sys.Date() - 365, to = Sys.Date())"
      ],
      "metadata": {
        "colab": {
          "base_uri": "https://localhost:8080/",
          "height": 34
        },
        "id": "0_MuwKGbRTis",
        "outputId": "a463ef70-2681-481c-c562-5b8659f2f46d"
      },
      "execution_count": 5,
      "outputs": [
        {
          "output_type": "display_data",
          "data": {
            "text/html": [
              "<style>\n",
              ".list-inline {list-style: none; margin:0; padding: 0}\n",
              ".list-inline>li {display: inline-block}\n",
              ".list-inline>li:not(:last-child)::after {content: \"\\00b7\"; padding: 0 .5ex}\n",
              "</style>\n",
              "<ol class=list-inline><li>'PETR4.SA'</li><li>'VALE3.SA'</li><li>'ABEV3.SA'</li><li>'BBAS3.SA'</li></ol>\n"
            ],
            "text/markdown": "1. 'PETR4.SA'\n2. 'VALE3.SA'\n3. 'ABEV3.SA'\n4. 'BBAS3.SA'\n\n\n",
            "text/latex": "\\begin{enumerate*}\n\\item 'PETR4.SA'\n\\item 'VALE3.SA'\n\\item 'ABEV3.SA'\n\\item 'BBAS3.SA'\n\\end{enumerate*}\n",
            "text/plain": [
              "[1] \"PETR4.SA\" \"VALE3.SA\" \"ABEV3.SA\" \"BBAS3.SA\""
            ]
          },
          "metadata": {}
        }
      ]
    },
    {
      "cell_type": "markdown",
      "source": [
        "### Fechar os preços ajustados"
      ],
      "metadata": {
        "id": "iEGYlgihRXXg"
      }
    },
    {
      "cell_type": "markdown",
      "source": [
        "- lapply é uma função que aplica uma função a cada elemento de uma lista ou vetor. Aqui, ela está aplicando a função anônima function(sym) Ad(get(sym)) a cada símbolo em simbolos.\n",
        "- function(sym) Ad(get(sym)): Esta é uma função anônima que faz o seguinte para cada símbolo:\n",
        "  - get(sym): Recupera o objeto correspondente ao símbolo sym do ambiente de trabalho. Por exemplo, se sym é \"PETR4.SA\", get(\"PETR4.SA\") retorna o objeto PETR4.SA.\n",
        "  - Ad(get(sym)): Ad é uma função do quantmod que extrai a coluna de preços ajustados (Adjusted Close) de um objeto de série temporal. O preço ajustado considera eventos corporativos como dividendos e splits de ações.\n",
        "- O resultado de lapply é uma lista onde cada elemento é a série temporal dos preços ajustados para um dos símbolos.\n",
        "\n",
        "- do.call(merge, ...):\n",
        "  - do.call: Esta função executa uma função com argumentos especificados em uma lista. Aqui, ela está executando a função merge com os elementos da lista gerada por lapply como argumentos.\n",
        "  - merge: Combina múltiplas séries temporais em uma única série temporal multivariada. Isso significa que as séries de preços ajustados de todos os símbolos serão combinadas em um único objeto, com uma coluna para cada símbolo."
      ],
      "metadata": {
        "id": "kWUoK8dsYCW9"
      }
    },
    {
      "cell_type": "markdown",
      "source": [
        "### Resumo\n",
        "- A linha de código combina as séries temporais de preços ajustados de todos os ativos especificados em simbolos em um único objeto de série temporal multivariada. Cada coluna do objeto resultante contém os preços ajustados para um dos ativos."
      ],
      "metadata": {
        "id": "s0UaVuBMY-GL"
      }
    },
    {
      "cell_type": "code",
      "source": [
        "precos <- do.call(merge, lapply(simbolos, function(sym) Ad(get(sym))))"
      ],
      "metadata": {
        "id": "WxzGqfe-RjXz"
      },
      "execution_count": 6,
      "outputs": []
    },
    {
      "cell_type": "markdown",
      "source": [
        "### Visualizar os dados"
      ],
      "metadata": {
        "id": "IKdUvBZ5Rpu1"
      }
    },
    {
      "cell_type": "code",
      "source": [
        "head(precos)"
      ],
      "metadata": {
        "colab": {
          "base_uri": "https://localhost:8080/",
          "height": 260
        },
        "id": "kyGhIDgSRsx2",
        "outputId": "368b10ae-8b7d-463c-f044-5ff898acba0f"
      },
      "execution_count": 7,
      "outputs": [
        {
          "output_type": "display_data",
          "data": {
            "text/plain": [
              "           PETR4.SA.Adjusted VALE3.SA.Adjusted ABEV3.SA.Adjusted\n",
              "2023-05-29          21.64717          60.56482          14.02682\n",
              "2023-05-30          21.40385          59.13878          13.76073\n",
              "2023-05-31          21.18487          58.70638          13.69421\n",
              "2023-06-01          21.86615          59.94840          13.53265\n",
              "2023-06-02          22.04459          62.50605          13.74172\n",
              "2023-06-05          22.27979          61.99084          13.69421\n",
              "           BBAS3.SA.Adjusted\n",
              "2023-05-29          19.55960\n",
              "2023-05-30          19.72730\n",
              "2023-05-31          19.69200\n",
              "2023-06-01          19.74496\n",
              "2023-06-02          20.33999\n",
              "2023-06-05          20.46729"
            ]
          },
          "metadata": {}
        }
      ]
    },
    {
      "cell_type": "markdown",
      "source": [
        "## 2. Estimar os Parâmetros do Modelo CER de Cada Ativo"
      ],
      "metadata": {
        "id": "XPr651VCRsJO"
      }
    },
    {
      "cell_type": "markdown",
      "source": [
        "- Primeiro, vamos calcular os retornos logarítmicos dos preços ajustados. Em seguida, estimamos a média e a variância desses retornos."
      ],
      "metadata": {
        "id": "IV2_6olxR9EP"
      }
    },
    {
      "cell_type": "markdown",
      "source": [
        "### Calcular retornos logarítmicos"
      ],
      "metadata": {
        "id": "A8I6UkJJSAiG"
      }
    },
    {
      "cell_type": "markdown",
      "source": [
        "- log(precos):\n",
        "  - Aplica a função logarítmica natural a cada elemento da matriz precos. precos contém os preços ajustados dos ativos, e log(precos) calcula o logaritmo natural desses preços. O logaritmo natural é frequentemente usado em finanças para converter os preços em uma escala que facilita a análise de retornos.\n",
        "- diff(log(precos)):\n",
        "  - Calcula a diferença entre valores consecutivos de log(precos). Esta operação retorna uma matriz de retornos logarítmicos. Os retornos logarítmicos são uma forma comum de medir os retornos de ativos porque têm propriedades matemáticas úteis, como a aditividade ao longo do tempo.\n",
        "- na.omit(...):\n",
        "  - Remove quaisquer valores NA da matriz resultante. A função diff produz um NA na primeira posição porque não há valor anterior para calcular a diferença. na.omit remove essas linhas contendo NA, resultando em uma matriz de retornos logarítmicos sem valores faltantes."
      ],
      "metadata": {
        "id": "BW0ESI0bZRf6"
      }
    },
    {
      "cell_type": "markdown",
      "source": [
        "### Resumo\n",
        "- Esta linha de código calcula os retornos logarítmicos dos preços ajustados dos ativos e remove quaisquer valores NA resultantes do cálculo das diferenças."
      ],
      "metadata": {
        "id": "jYYoG6B8Z7Kg"
      }
    },
    {
      "cell_type": "code",
      "source": [
        "retornos <- na.omit(diff(log(precos)))"
      ],
      "metadata": {
        "id": "7Doeit1hSDCM"
      },
      "execution_count": 8,
      "outputs": []
    },
    {
      "cell_type": "markdown",
      "source": [
        "### Estimar os parâmetros do modelo CER"
      ],
      "metadata": {
        "id": "tkIiU1dJSFID"
      }
    },
    {
      "cell_type": "markdown",
      "source": [
        "- colMeans(retornos):\n",
        "  - Calcula a média de cada coluna na matriz retornos. retornos é uma matriz onde cada coluna representa os retornos logarítmicos de um ativo diferente.\n",
        "  - colMeans retorna um vetor onde cada elemento é a média dos retornos para um ativo específico.\n",
        "- cov(retornos):\n",
        "  - Calcula a matriz de covariância dos retornos. A matriz de covariância descreve a variabilidade conjunta dos retornos dos ativos.\n",
        "  - cov retorna uma matriz quadrada onde cada elemento (i, j) representa a covariância entre os retornos dos ativos i e j."
      ],
      "metadata": {
        "id": "1D89yOkge5mp"
      }
    },
    {
      "cell_type": "markdown",
      "source": [
        "### Resumo\n",
        "- Estas linhas de código calculam as médias dos retornos e a matriz de covariância dos retornos, que são parâmetros essenciais para a análise de portfólio e simulações financeiras."
      ],
      "metadata": {
        "id": "eAwkaCJffMql"
      }
    },
    {
      "cell_type": "code",
      "source": [
        "medias <- colMeans(retornos)\n",
        "cov_matrix <- cov(retornos)"
      ],
      "metadata": {
        "id": "zOaA3UjYSJu7"
      },
      "execution_count": 9,
      "outputs": []
    },
    {
      "cell_type": "markdown",
      "source": [
        "\n",
        "### Visualizar os parâmetros estimados"
      ],
      "metadata": {
        "id": "G_6K3k3FSNkA"
      }
    },
    {
      "cell_type": "code",
      "source": [
        "medias\n",
        "cov_matrix"
      ],
      "metadata": {
        "colab": {
          "base_uri": "https://localhost:8080/",
          "height": 210
        },
        "id": "Pg1iyGy2SQNm",
        "outputId": "98188d9f-2c51-4dfb-d1f2-ed6e265cf8df"
      },
      "execution_count": 10,
      "outputs": [
        {
          "output_type": "display_data",
          "data": {
            "text/html": [
              "<style>\n",
              ".dl-inline {width: auto; margin:0; padding: 0}\n",
              ".dl-inline>dt, .dl-inline>dd {float: none; width: auto; display: inline-block}\n",
              ".dl-inline>dt::after {content: \":\\0020\"; padding-right: .5ex}\n",
              ".dl-inline>dt:not(:first-of-type) {padding-left: .5ex}\n",
              "</style><dl class=dl-inline><dt>PETR4.SA.Adjusted</dt><dd>0.00212731515349603</dd><dt>VALE3.SA.Adjusted</dt><dd>0.000291106024232103</dd><dt>ABEV3.SA.Adjusted</dt><dd>-0.000675939373734176</dd><dt>BBAS3.SA.Adjusted</dt><dd>0.00131712261458789</dd></dl>\n"
            ],
            "text/markdown": "PETR4.SA.Adjusted\n:   0.00212731515349603VALE3.SA.Adjusted\n:   0.000291106024232103ABEV3.SA.Adjusted\n:   -0.000675939373734176BBAS3.SA.Adjusted\n:   0.00131712261458789\n\n",
            "text/latex": "\\begin{description*}\n\\item[PETR4.SA.Adjusted] 0.00212731515349603\n\\item[VALE3.SA.Adjusted] 0.000291106024232103\n\\item[ABEV3.SA.Adjusted] -0.000675939373734176\n\\item[BBAS3.SA.Adjusted] 0.00131712261458789\n\\end{description*}\n",
            "text/plain": [
              "PETR4.SA.Adjusted VALE3.SA.Adjusted ABEV3.SA.Adjusted BBAS3.SA.Adjusted \n",
              "     0.0021273152      0.0002911060     -0.0006759394      0.0013171226 "
            ]
          },
          "metadata": {}
        },
        {
          "output_type": "display_data",
          "data": {
            "text/html": [
              "<table class=\"dataframe\">\n",
              "<caption>A matrix: 4 × 4 of type dbl</caption>\n",
              "<thead>\n",
              "\t<tr><th></th><th scope=col>PETR4.SA.Adjusted</th><th scope=col>VALE3.SA.Adjusted</th><th scope=col>ABEV3.SA.Adjusted</th><th scope=col>BBAS3.SA.Adjusted</th></tr>\n",
              "</thead>\n",
              "<tbody>\n",
              "\t<tr><th scope=row>PETR4.SA.Adjusted</th><td>3.527068e-04</td><td>5.952787e-05</td><td>1.315664e-06</td><td>6.958803e-05</td></tr>\n",
              "\t<tr><th scope=row>VALE3.SA.Adjusted</th><td>5.952787e-05</td><td>2.262752e-04</td><td>1.703152e-05</td><td>3.442413e-05</td></tr>\n",
              "\t<tr><th scope=row>ABEV3.SA.Adjusted</th><td>1.315664e-06</td><td>1.703152e-05</td><td>1.510995e-04</td><td>5.889585e-05</td></tr>\n",
              "\t<tr><th scope=row>BBAS3.SA.Adjusted</th><td>6.958803e-05</td><td>3.442413e-05</td><td>5.889585e-05</td><td>1.686199e-04</td></tr>\n",
              "</tbody>\n",
              "</table>\n"
            ],
            "text/markdown": "\nA matrix: 4 × 4 of type dbl\n\n| <!--/--> | PETR4.SA.Adjusted | VALE3.SA.Adjusted | ABEV3.SA.Adjusted | BBAS3.SA.Adjusted |\n|---|---|---|---|---|\n| PETR4.SA.Adjusted | 3.527068e-04 | 5.952787e-05 | 1.315664e-06 | 6.958803e-05 |\n| VALE3.SA.Adjusted | 5.952787e-05 | 2.262752e-04 | 1.703152e-05 | 3.442413e-05 |\n| ABEV3.SA.Adjusted | 1.315664e-06 | 1.703152e-05 | 1.510995e-04 | 5.889585e-05 |\n| BBAS3.SA.Adjusted | 6.958803e-05 | 3.442413e-05 | 5.889585e-05 | 1.686199e-04 |\n\n",
            "text/latex": "A matrix: 4 × 4 of type dbl\n\\begin{tabular}{r|llll}\n  & PETR4.SA.Adjusted & VALE3.SA.Adjusted & ABEV3.SA.Adjusted & BBAS3.SA.Adjusted\\\\\n\\hline\n\tPETR4.SA.Adjusted & 3.527068e-04 & 5.952787e-05 & 1.315664e-06 & 6.958803e-05\\\\\n\tVALE3.SA.Adjusted & 5.952787e-05 & 2.262752e-04 & 1.703152e-05 & 3.442413e-05\\\\\n\tABEV3.SA.Adjusted & 1.315664e-06 & 1.703152e-05 & 1.510995e-04 & 5.889585e-05\\\\\n\tBBAS3.SA.Adjusted & 6.958803e-05 & 3.442413e-05 & 5.889585e-05 & 1.686199e-04\\\\\n\\end{tabular}\n",
            "text/plain": [
              "                  PETR4.SA.Adjusted VALE3.SA.Adjusted ABEV3.SA.Adjusted\n",
              "PETR4.SA.Adjusted 3.527068e-04      5.952787e-05      1.315664e-06     \n",
              "VALE3.SA.Adjusted 5.952787e-05      2.262752e-04      1.703152e-05     \n",
              "ABEV3.SA.Adjusted 1.315664e-06      1.703152e-05      1.510995e-04     \n",
              "BBAS3.SA.Adjusted 6.958803e-05      3.442413e-05      5.889585e-05     \n",
              "                  BBAS3.SA.Adjusted\n",
              "PETR4.SA.Adjusted 6.958803e-05     \n",
              "VALE3.SA.Adjusted 3.442413e-05     \n",
              "ABEV3.SA.Adjusted 5.889585e-05     \n",
              "BBAS3.SA.Adjusted 1.686199e-04     "
            ]
          },
          "metadata": {}
        }
      ]
    },
    {
      "cell_type": "markdown",
      "source": [
        "## 3. Verificar a Normalidade"
      ],
      "metadata": {
        "id": "LbZJonZvSVaI"
      }
    },
    {
      "cell_type": "markdown",
      "source": [
        "- Vamos utilizar o teste de Jarque-Bera para verificar a normalidade dos retornos."
      ],
      "metadata": {
        "id": "cHodCGXwSawU"
      }
    },
    {
      "cell_type": "markdown",
      "source": [
        "### Testar normalidade dos retornos"
      ],
      "metadata": {
        "id": "vvM4hg8zShta"
      }
    },
    {
      "cell_type": "markdown",
      "source": [
        "- apply: A função apply aplica uma função a margens específicas de um array ou matriz. No caso de retornos, que é uma matriz, apply aplica a função a cada coluna ou linha.\n",
        "- 2: O segundo argumento de apply especifica a margem ao longo da qual a função deve ser aplicada. 2 significa que a função será aplicada a cada coluna.\n",
        "- jarque.bera.test: Esta é a função que será aplicada a cada coluna de retornos. A função jarque.bera.test realiza o teste de Jarque-Bera para avaliar a normalidade de uma distribuição."
      ],
      "metadata": {
        "id": "AXEgeZPffXWC"
      }
    },
    {
      "cell_type": "code",
      "source": [
        "testes_normalidade <- apply(retornos, 2, jarque.bera.test)"
      ],
      "metadata": {
        "id": "OQkUlgjQSnrI"
      },
      "execution_count": 11,
      "outputs": []
    },
    {
      "cell_type": "markdown",
      "source": [
        "### Visualizar os resultados dos testes de normalidade"
      ],
      "metadata": {
        "id": "8j_pFnYfSp7d"
      }
    },
    {
      "cell_type": "code",
      "source": [
        "testes_normalidade"
      ],
      "metadata": {
        "colab": {
          "base_uri": "https://localhost:8080/",
          "height": 555
        },
        "id": "taGn7isCSsKW",
        "outputId": "871fa15c-7897-4925-dcc4-cfa1683d12fd"
      },
      "execution_count": 12,
      "outputs": [
        {
          "output_type": "display_data",
          "data": {
            "text/plain": [
              "$PETR4.SA.Adjusted\n",
              "\n",
              "\tJarque Bera Test\n",
              "\n",
              "data:  newX[, i]\n",
              "X-squared = 198.38, df = 2, p-value < 2.2e-16\n",
              "\n",
              "\n",
              "$VALE3.SA.Adjusted\n",
              "\n",
              "\tJarque Bera Test\n",
              "\n",
              "data:  newX[, i]\n",
              "X-squared = 25.493, df = 2, p-value = 2.912e-06\n",
              "\n",
              "\n",
              "$ABEV3.SA.Adjusted\n",
              "\n",
              "\tJarque Bera Test\n",
              "\n",
              "data:  newX[, i]\n",
              "X-squared = 124.22, df = 2, p-value < 2.2e-16\n",
              "\n",
              "\n",
              "$BBAS3.SA.Adjusted\n",
              "\n",
              "\tJarque Bera Test\n",
              "\n",
              "data:  newX[, i]\n",
              "X-squared = 18.798, df = 2, p-value = 8.282e-05\n",
              "\n"
            ]
          },
          "metadata": {}
        }
      ]
    },
    {
      "cell_type": "markdown",
      "source": [
        "## 4. Calcular a Matriz de Correlação Empírica"
      ],
      "metadata": {
        "id": "2sDuHiTkSwtP"
      }
    },
    {
      "cell_type": "markdown",
      "source": [
        "- Vamos calcular a matriz de correlação entre os retornos dos ativos."
      ],
      "metadata": {
        "id": "tS8xVsuzSzth"
      }
    },
    {
      "cell_type": "markdown",
      "source": [
        "## Calcular matriz de correlação"
      ],
      "metadata": {
        "id": "gskiwc2AS1_x"
      }
    },
    {
      "cell_type": "code",
      "source": [
        "cor_matrix <- cor(retornos)"
      ],
      "metadata": {
        "id": "6WcnnFohS5EE"
      },
      "execution_count": 13,
      "outputs": []
    },
    {
      "cell_type": "markdown",
      "source": [
        "### Visualizar matriz de correlação"
      ],
      "metadata": {
        "id": "RNLuOnmNS7tg"
      }
    },
    {
      "cell_type": "code",
      "source": [
        "cor_matrix"
      ],
      "metadata": {
        "colab": {
          "base_uri": "https://localhost:8080/",
          "height": 192
        },
        "id": "4uSUGjzKS_dI",
        "outputId": "ae4580df-e6df-492b-b92e-23e8e8f4304c"
      },
      "execution_count": 14,
      "outputs": [
        {
          "output_type": "display_data",
          "data": {
            "text/html": [
              "<table class=\"dataframe\">\n",
              "<caption>A matrix: 4 × 4 of type dbl</caption>\n",
              "<thead>\n",
              "\t<tr><th></th><th scope=col>PETR4.SA.Adjusted</th><th scope=col>VALE3.SA.Adjusted</th><th scope=col>ABEV3.SA.Adjusted</th><th scope=col>BBAS3.SA.Adjusted</th></tr>\n",
              "</thead>\n",
              "<tbody>\n",
              "\t<tr><th scope=row>PETR4.SA.Adjusted</th><td>1.000000000</td><td>0.21071476</td><td>0.005699104</td><td>0.2853470</td></tr>\n",
              "\t<tr><th scope=row>VALE3.SA.Adjusted</th><td>0.210714757</td><td>1.00000000</td><td>0.092109314</td><td>0.1762342</td></tr>\n",
              "\t<tr><th scope=row>ABEV3.SA.Adjusted</th><td>0.005699104</td><td>0.09210931</td><td>1.000000000</td><td>0.3689767</td></tr>\n",
              "\t<tr><th scope=row>BBAS3.SA.Adjusted</th><td>0.285346965</td><td>0.17623417</td><td>0.368976659</td><td>1.0000000</td></tr>\n",
              "</tbody>\n",
              "</table>\n"
            ],
            "text/markdown": "\nA matrix: 4 × 4 of type dbl\n\n| <!--/--> | PETR4.SA.Adjusted | VALE3.SA.Adjusted | ABEV3.SA.Adjusted | BBAS3.SA.Adjusted |\n|---|---|---|---|---|\n| PETR4.SA.Adjusted | 1.000000000 | 0.21071476 | 0.005699104 | 0.2853470 |\n| VALE3.SA.Adjusted | 0.210714757 | 1.00000000 | 0.092109314 | 0.1762342 |\n| ABEV3.SA.Adjusted | 0.005699104 | 0.09210931 | 1.000000000 | 0.3689767 |\n| BBAS3.SA.Adjusted | 0.285346965 | 0.17623417 | 0.368976659 | 1.0000000 |\n\n",
            "text/latex": "A matrix: 4 × 4 of type dbl\n\\begin{tabular}{r|llll}\n  & PETR4.SA.Adjusted & VALE3.SA.Adjusted & ABEV3.SA.Adjusted & BBAS3.SA.Adjusted\\\\\n\\hline\n\tPETR4.SA.Adjusted & 1.000000000 & 0.21071476 & 0.005699104 & 0.2853470\\\\\n\tVALE3.SA.Adjusted & 0.210714757 & 1.00000000 & 0.092109314 & 0.1762342\\\\\n\tABEV3.SA.Adjusted & 0.005699104 & 0.09210931 & 1.000000000 & 0.3689767\\\\\n\tBBAS3.SA.Adjusted & 0.285346965 & 0.17623417 & 0.368976659 & 1.0000000\\\\\n\\end{tabular}\n",
            "text/plain": [
              "                  PETR4.SA.Adjusted VALE3.SA.Adjusted ABEV3.SA.Adjusted\n",
              "PETR4.SA.Adjusted 1.000000000       0.21071476        0.005699104      \n",
              "VALE3.SA.Adjusted 0.210714757       1.00000000        0.092109314      \n",
              "ABEV3.SA.Adjusted 0.005699104       0.09210931        1.000000000      \n",
              "BBAS3.SA.Adjusted 0.285346965       0.17623417        0.368976659      \n",
              "                  BBAS3.SA.Adjusted\n",
              "PETR4.SA.Adjusted 0.2853470        \n",
              "VALE3.SA.Adjusted 0.1762342        \n",
              "ABEV3.SA.Adjusted 0.3689767        \n",
              "BBAS3.SA.Adjusted 1.0000000        "
            ]
          },
          "metadata": {}
        }
      ]
    },
    {
      "cell_type": "markdown",
      "source": [
        "## 5. Comparar Resultados da Simulação MC do CER Correlacionado com Dados Históricos"
      ],
      "metadata": {
        "id": "NufDyfDdTC2y"
      }
    },
    {
      "cell_type": "markdown",
      "source": [
        "- Vamos simular os retornos dos ativos utilizando a matriz de correlação e comparar os resultados com os dados históricos."
      ],
      "metadata": {
        "id": "WknrDKARTGjO"
      }
    },
    {
      "cell_type": "markdown",
      "source": [
        "### Número de simulações"
      ],
      "metadata": {
        "id": "mm2iVZX7TJ8W"
      }
    },
    {
      "cell_type": "code",
      "source": [
        "numero_simulacoes <- 10000\n",
        "numeros_ativos <- ncol(retornos)\n",
        "numero_periodos <- nrow(retornos)"
      ],
      "metadata": {
        "id": "kn0AgNsVTMzX"
      },
      "execution_count": 15,
      "outputs": []
    },
    {
      "cell_type": "markdown",
      "source": [
        "### Simular retornos futuros usando Monte Carlo"
      ],
      "metadata": {
        "id": "BiP93BFBTO2F"
      }
    },
    {
      "cell_type": "code",
      "source": [
        "set.seed(123)\n",
        "retornos_simulados <- mvrnorm(numero_simulacoes * numero_periodos,\n",
        "                              mu = medias, Sigma = cov_matrix)\n",
        "retornos_simulados <- matrix(retornos_simulados,\n",
        "                             ncol = numeros_ativos, byrow = TRUE)"
      ],
      "metadata": {
        "id": "RYi5l2QTTSFV"
      },
      "execution_count": 16,
      "outputs": []
    },
    {
      "cell_type": "markdown",
      "source": [
        "### Comparar os retornos simulados com os retornos históricos"
      ],
      "metadata": {
        "id": "hK0hBOFhTUqT"
      }
    },
    {
      "cell_type": "code",
      "source": [
        "media_simulada <- colMeans(retornos_simulados)\n",
        "simulada_cov_matrix <- cov(retornos_simulados)"
      ],
      "metadata": {
        "id": "7Phz8KmkTV4z"
      },
      "execution_count": 17,
      "outputs": []
    },
    {
      "cell_type": "markdown",
      "source": [
        "### Visualizar comparação"
      ],
      "metadata": {
        "id": "4IAZiTv2TZ0L"
      }
    },
    {
      "cell_type": "code",
      "source": [
        "list(\n",
        "  MediaHistorica = medias,\n",
        "  MediaSimulada = media_simulada,\n",
        "  CovarianciaHistorica = cov_matrix,\n",
        "  CovarianciaSimulada = simulada_cov_matrix\n",
        ")"
      ],
      "metadata": {
        "colab": {
          "base_uri": "https://localhost:8080/",
          "height": 467
        },
        "id": "UBxPWPPtTXat",
        "outputId": "b74ef438-506a-416a-c3e0-eb851404d626"
      },
      "execution_count": 18,
      "outputs": [
        {
          "output_type": "display_data",
          "data": {
            "text/html": [
              "<dl>\n",
              "\t<dt>$MediaHistorica</dt>\n",
              "\t\t<dd><style>\n",
              ".dl-inline {width: auto; margin:0; padding: 0}\n",
              ".dl-inline>dt, .dl-inline>dd {float: none; width: auto; display: inline-block}\n",
              ".dl-inline>dt::after {content: \":\\0020\"; padding-right: .5ex}\n",
              ".dl-inline>dt:not(:first-of-type) {padding-left: .5ex}\n",
              "</style><dl class=dl-inline><dt>PETR4.SA.Adjusted</dt><dd>0.00212731515349603</dd><dt>VALE3.SA.Adjusted</dt><dd>0.000291106024232103</dd><dt>ABEV3.SA.Adjusted</dt><dd>-0.000675939373734176</dd><dt>BBAS3.SA.Adjusted</dt><dd>0.00131712261458789</dd></dl>\n",
              "</dd>\n",
              "\t<dt>$MediaSimulada</dt>\n",
              "\t\t<dd><style>\n",
              ".list-inline {list-style: none; margin:0; padding: 0}\n",
              ".list-inline>li {display: inline-block}\n",
              ".list-inline>li:not(:last-child)::after {content: \"\\00b7\"; padding: 0 .5ex}\n",
              "</style>\n",
              "<ol class=list-inline><li>0.000760597370562344</li><li>0.000766951555639074</li><li>0.000755327788769052</li><li>0.000760458946984248</li></ol>\n",
              "</dd>\n",
              "\t<dt>$CovarianciaHistorica</dt>\n",
              "\t\t<dd><table class=\"dataframe\">\n",
              "<caption>A matrix: 4 × 4 of type dbl</caption>\n",
              "<thead>\n",
              "\t<tr><th></th><th scope=col>PETR4.SA.Adjusted</th><th scope=col>VALE3.SA.Adjusted</th><th scope=col>ABEV3.SA.Adjusted</th><th scope=col>BBAS3.SA.Adjusted</th></tr>\n",
              "</thead>\n",
              "<tbody>\n",
              "\t<tr><th scope=row>PETR4.SA.Adjusted</th><td>3.527068e-04</td><td>5.952787e-05</td><td>1.315664e-06</td><td>6.958803e-05</td></tr>\n",
              "\t<tr><th scope=row>VALE3.SA.Adjusted</th><td>5.952787e-05</td><td>2.262752e-04</td><td>1.703152e-05</td><td>3.442413e-05</td></tr>\n",
              "\t<tr><th scope=row>ABEV3.SA.Adjusted</th><td>1.315664e-06</td><td>1.703152e-05</td><td>1.510995e-04</td><td>5.889585e-05</td></tr>\n",
              "\t<tr><th scope=row>BBAS3.SA.Adjusted</th><td>6.958803e-05</td><td>3.442413e-05</td><td>5.889585e-05</td><td>1.686199e-04</td></tr>\n",
              "</tbody>\n",
              "</table>\n",
              "</dd>\n",
              "\t<dt>$CovarianciaSimulada</dt>\n",
              "\t\t<dd><table class=\"dataframe\">\n",
              "<caption>A matrix: 4 × 4 of type dbl</caption>\n",
              "<tbody>\n",
              "\t<tr><td>2.257448e-04</td><td>1.251105e-06</td><td>1.166645e-06</td><td>8.933478e-07</td></tr>\n",
              "\t<tr><td>1.251105e-06</td><td>2.259429e-04</td><td>1.020872e-06</td><td>1.115110e-06</td></tr>\n",
              "\t<tr><td>1.166645e-06</td><td>1.020872e-06</td><td>2.257653e-04</td><td>8.558650e-07</td></tr>\n",
              "\t<tr><td>8.933478e-07</td><td>1.115110e-06</td><td>8.558650e-07</td><td>2.257816e-04</td></tr>\n",
              "</tbody>\n",
              "</table>\n",
              "</dd>\n",
              "</dl>\n"
            ],
            "text/markdown": "$MediaHistorica\n:   PETR4.SA.Adjusted\n:   0.00212731515349603VALE3.SA.Adjusted\n:   0.000291106024232103ABEV3.SA.Adjusted\n:   -0.000675939373734176BBAS3.SA.Adjusted\n:   0.00131712261458789\n\n\n$MediaSimulada\n:   1. 0.000760597370562344\n2. 0.000766951555639074\n3. 0.000755327788769052\n4. 0.000760458946984248\n\n\n\n$CovarianciaHistorica\n:   \nA matrix: 4 × 4 of type dbl\n\n| <!--/--> | PETR4.SA.Adjusted | VALE3.SA.Adjusted | ABEV3.SA.Adjusted | BBAS3.SA.Adjusted |\n|---|---|---|---|---|\n| PETR4.SA.Adjusted | 3.527068e-04 | 5.952787e-05 | 1.315664e-06 | 6.958803e-05 |\n| VALE3.SA.Adjusted | 5.952787e-05 | 2.262752e-04 | 1.703152e-05 | 3.442413e-05 |\n| ABEV3.SA.Adjusted | 1.315664e-06 | 1.703152e-05 | 1.510995e-04 | 5.889585e-05 |\n| BBAS3.SA.Adjusted | 6.958803e-05 | 3.442413e-05 | 5.889585e-05 | 1.686199e-04 |\n\n\n$CovarianciaSimulada\n:   \nA matrix: 4 × 4 of type dbl\n\n| 2.257448e-04 | 1.251105e-06 | 1.166645e-06 | 8.933478e-07 |\n| 1.251105e-06 | 2.259429e-04 | 1.020872e-06 | 1.115110e-06 |\n| 1.166645e-06 | 1.020872e-06 | 2.257653e-04 | 8.558650e-07 |\n| 8.933478e-07 | 1.115110e-06 | 8.558650e-07 | 2.257816e-04 |\n\n\n\n\n",
            "text/latex": "\\begin{description}\n\\item[\\$MediaHistorica] \\begin{description*}\n\\item[PETR4.SA.Adjusted] 0.00212731515349603\n\\item[VALE3.SA.Adjusted] 0.000291106024232103\n\\item[ABEV3.SA.Adjusted] -0.000675939373734176\n\\item[BBAS3.SA.Adjusted] 0.00131712261458789\n\\end{description*}\n\n\\item[\\$MediaSimulada] \\begin{enumerate*}\n\\item 0.000760597370562344\n\\item 0.000766951555639074\n\\item 0.000755327788769052\n\\item 0.000760458946984248\n\\end{enumerate*}\n\n\\item[\\$CovarianciaHistorica] A matrix: 4 × 4 of type dbl\n\\begin{tabular}{r|llll}\n  & PETR4.SA.Adjusted & VALE3.SA.Adjusted & ABEV3.SA.Adjusted & BBAS3.SA.Adjusted\\\\\n\\hline\n\tPETR4.SA.Adjusted & 3.527068e-04 & 5.952787e-05 & 1.315664e-06 & 6.958803e-05\\\\\n\tVALE3.SA.Adjusted & 5.952787e-05 & 2.262752e-04 & 1.703152e-05 & 3.442413e-05\\\\\n\tABEV3.SA.Adjusted & 1.315664e-06 & 1.703152e-05 & 1.510995e-04 & 5.889585e-05\\\\\n\tBBAS3.SA.Adjusted & 6.958803e-05 & 3.442413e-05 & 5.889585e-05 & 1.686199e-04\\\\\n\\end{tabular}\n\n\\item[\\$CovarianciaSimulada] A matrix: 4 × 4 of type dbl\n\\begin{tabular}{llll}\n\t 2.257448e-04 & 1.251105e-06 & 1.166645e-06 & 8.933478e-07\\\\\n\t 1.251105e-06 & 2.259429e-04 & 1.020872e-06 & 1.115110e-06\\\\\n\t 1.166645e-06 & 1.020872e-06 & 2.257653e-04 & 8.558650e-07\\\\\n\t 8.933478e-07 & 1.115110e-06 & 8.558650e-07 & 2.257816e-04\\\\\n\\end{tabular}\n\n\\end{description}\n",
            "text/plain": [
              "$MediaHistorica\n",
              "PETR4.SA.Adjusted VALE3.SA.Adjusted ABEV3.SA.Adjusted BBAS3.SA.Adjusted \n",
              "     0.0021273152      0.0002911060     -0.0006759394      0.0013171226 \n",
              "\n",
              "$MediaSimulada\n",
              "[1] 0.0007605974 0.0007669516 0.0007553278 0.0007604589\n",
              "\n",
              "$CovarianciaHistorica\n",
              "                  PETR4.SA.Adjusted VALE3.SA.Adjusted ABEV3.SA.Adjusted\n",
              "PETR4.SA.Adjusted      3.527068e-04      5.952787e-05      1.315664e-06\n",
              "VALE3.SA.Adjusted      5.952787e-05      2.262752e-04      1.703152e-05\n",
              "ABEV3.SA.Adjusted      1.315664e-06      1.703152e-05      1.510995e-04\n",
              "BBAS3.SA.Adjusted      6.958803e-05      3.442413e-05      5.889585e-05\n",
              "                  BBAS3.SA.Adjusted\n",
              "PETR4.SA.Adjusted      6.958803e-05\n",
              "VALE3.SA.Adjusted      3.442413e-05\n",
              "ABEV3.SA.Adjusted      5.889585e-05\n",
              "BBAS3.SA.Adjusted      1.686199e-04\n",
              "\n",
              "$CovarianciaSimulada\n",
              "             [,1]         [,2]         [,3]         [,4]\n",
              "[1,] 2.257448e-04 1.251105e-06 1.166645e-06 8.933478e-07\n",
              "[2,] 1.251105e-06 2.259429e-04 1.020872e-06 1.115110e-06\n",
              "[3,] 1.166645e-06 1.020872e-06 2.257653e-04 8.558650e-07\n",
              "[4,] 8.933478e-07 1.115110e-06 8.558650e-07 2.257816e-04\n"
            ]
          },
          "metadata": {}
        }
      ]
    },
    {
      "cell_type": "markdown",
      "source": [
        "## 6. Estimar Valores dos Ativos em Dezembro/2024"
      ],
      "metadata": {
        "id": "kf80WWh1Tf7A"
      }
    },
    {
      "cell_type": "markdown",
      "source": [
        "- Vamos projetar os preços dos ativos para dezembro de 2024 utilizando os parâmetros estimados."
      ],
      "metadata": {
        "id": "CeIrz7ueTips"
      }
    },
    {
      "cell_type": "markdown",
      "source": [
        "### Período de projeção (restante do ano)"
      ],
      "metadata": {
        "id": "zUnPI-_wTmD-"
      }
    },
    {
      "cell_type": "code",
      "source": [
        "periodo_projetado <- as.integer(difftime(as.Date(\"2024-12-31\"), Sys.Date(), units = \"days\"))"
      ],
      "metadata": {
        "id": "2YNKkYNvTpCN"
      },
      "execution_count": 19,
      "outputs": []
    },
    {
      "cell_type": "markdown",
      "source": [
        "### Estimar valores futuros usando a média e covariância dos retornos"
      ],
      "metadata": {
        "id": "RjvlfciJTr2h"
      }
    },
    {
      "cell_type": "code",
      "source": [
        "precos_simulados <- matrix(0, nrow = numero_simulacoes, ncol = numeros_ativos)\n",
        "precos_atuais <- tail(precos, 1)"
      ],
      "metadata": {
        "id": "TDx8-eEETuVr"
      },
      "execution_count": 21,
      "outputs": []
    },
    {
      "cell_type": "code",
      "source": [
        "for (i in 1:numero_simulacoes) {\n",
        "  retornos_futuros <- mvrnorm(periodo_projetado, mu = medias / 252, Sigma = cov_matrix / 252)\n",
        "  retornos_futuros_cum <- apply(retornos_futuros, 2, cumsum)\n",
        "  precos_simulados[i, ] <- precos_atuais * exp(tail(retornos_futuros_cum, 1))\n",
        "}"
      ],
      "metadata": {
        "id": "agaiq-JATw0h"
      },
      "execution_count": 22,
      "outputs": []
    },
    {
      "cell_type": "markdown",
      "source": [
        "### Estimar os valores médios futuros em dezembro/2024"
      ],
      "metadata": {
        "id": "KbU2ZpqYT0pa"
      }
    },
    {
      "cell_type": "code",
      "source": [
        "precos_futuros_estimados <- colMeans(precos_simulados)"
      ],
      "metadata": {
        "id": "HDnVYnEdT2yK"
      },
      "execution_count": 23,
      "outputs": []
    },
    {
      "cell_type": "markdown",
      "source": [
        "### Visualizar os valores estimados"
      ],
      "metadata": {
        "id": "au0kcFoxT5cO"
      }
    },
    {
      "cell_type": "code",
      "source": [
        "data.frame(\n",
        "  Ativos = simbolos,\n",
        "  PrecoAtuais = as.numeric(precos_atuais),\n",
        "  Preco_Futuro_Estimado = precos_futuros_estimados\n",
        ")"
      ],
      "metadata": {
        "colab": {
          "base_uri": "https://localhost:8080/",
          "height": 224
        },
        "id": "zsGh8ntnT7pi",
        "outputId": "5d02a265-49c1-456e-d8a6-611a68000dd9"
      },
      "execution_count": 24,
      "outputs": [
        {
          "output_type": "display_data",
          "data": {
            "text/html": [
              "<table class=\"dataframe\">\n",
              "<caption>A data.frame: 4 × 3</caption>\n",
              "<thead>\n",
              "\t<tr><th scope=col>Ativos</th><th scope=col>PrecoAtuais</th><th scope=col>Preco_Futuro_Estimado</th></tr>\n",
              "\t<tr><th scope=col>&lt;chr&gt;</th><th scope=col>&lt;dbl&gt;</th><th scope=col>&lt;dbl&gt;</th></tr>\n",
              "</thead>\n",
              "<tbody>\n",
              "\t<tr><td>PETR4.SA</td><td>36.61</td><td>36.68369</td></tr>\n",
              "\t<tr><td>VALE3.SA</td><td>65.08</td><td>65.09555</td></tr>\n",
              "\t<tr><td>ABEV3.SA</td><td>11.87</td><td>11.86465</td></tr>\n",
              "\t<tr><td>BBAS3.SA</td><td>27.08</td><td>27.11357</td></tr>\n",
              "</tbody>\n",
              "</table>\n"
            ],
            "text/markdown": "\nA data.frame: 4 × 3\n\n| Ativos &lt;chr&gt; | PrecoAtuais &lt;dbl&gt; | Preco_Futuro_Estimado &lt;dbl&gt; |\n|---|---|---|\n| PETR4.SA | 36.61 | 36.68369 |\n| VALE3.SA | 65.08 | 65.09555 |\n| ABEV3.SA | 11.87 | 11.86465 |\n| BBAS3.SA | 27.08 | 27.11357 |\n\n",
            "text/latex": "A data.frame: 4 × 3\n\\begin{tabular}{lll}\n Ativos & PrecoAtuais & Preco\\_Futuro\\_Estimado\\\\\n <chr> & <dbl> & <dbl>\\\\\n\\hline\n\t PETR4.SA & 36.61 & 36.68369\\\\\n\t VALE3.SA & 65.08 & 65.09555\\\\\n\t ABEV3.SA & 11.87 & 11.86465\\\\\n\t BBAS3.SA & 27.08 & 27.11357\\\\\n\\end{tabular}\n",
            "text/plain": [
              "  Ativos   PrecoAtuais Preco_Futuro_Estimado\n",
              "1 PETR4.SA 36.61       36.68369             \n",
              "2 VALE3.SA 65.08       65.09555             \n",
              "3 ABEV3.SA 11.87       11.86465             \n",
              "4 BBAS3.SA 27.08       27.11357             "
            ]
          },
          "metadata": {}
        }
      ]
    }
  ]
}