{
  "nbformat": 4,
  "nbformat_minor": 0,
  "metadata": {
    "colab": {
      "provenance": []
    },
    "kernelspec": {
      "name": "ir",
      "display_name": "R"
    },
    "language_info": {
      "name": "R"
    }
  },
  "cells": [
    {
      "cell_type": "markdown",
      "source": [
        "# Lista 6\n",
        "\n",
        "Modelo CER de ativos correlacionados\n",
        "1. Importar dados do Yahoo contendo a série histórica dos últimos 12 meses das\n",
        "ações da Petrobrás, Vale, Ambev e Banco do Brasil.\n",
        "2. Estime os parâmetros do modelo CER de cada um dos ativos\n",
        "3. Verifique a sua normalidade\n",
        "4. Calcule a matriz de correlação empirica entre esses ativos.\n",
        "5. Compare os resultados da simulação MC do CER correlacionado com os respectivos dados históricos.\n",
        "6. Estime os valores dos ativos em Dezembro/2024"
      ],
      "metadata": {
        "id": "KpOFKSpZMayY"
      }
    },
    {
      "cell_type": "markdown",
      "source": [
        "## 1. Importar Dados do Yahoo Finance"
      ],
      "metadata": {
        "id": "mJTuZow_RyGm"
      }
    },
    {
      "cell_type": "markdown",
      "source": [
        "- Utilizando a biblioteca quantmod para obter os dados históricos dos últimos 12 meses das ações da Petrobrás (PETR4.SA), Vale (VALE3.SA), Ambev (ABEV3.SA) e Banco do Brasil (BBAS3.SA)."
      ],
      "metadata": {
        "id": "0eBmkfoqLwKx"
      }
    },
    {
      "cell_type": "markdown",
      "source": [
        "### Instalar e carregar as bibliotecas necessárias\n",
        "\n",
        "- [quantmod](https://www.quantmod.com)\n",
        "  - Uso: Para importar dados financeiros históricos de várias fontes, incluindo Yahoo Finance. Utilizamos essa biblioteca para obter os preços ajustados das ações da Petrobrás, Vale, Ambev e Banco do Brasil.\n",
        "- [tseries](https://uribo.github.io/rpkg_showcase/date_and_time/tseries.html)\n",
        "  - Uso: Para realizar testes estatísticos. Utilizamos essa biblioteca para aplicar o teste de Jarque-Bera e verificar a normalidade dos retornos dos ativos.\n",
        "- [PerformanceAnalytics](https://github.com/braverock/PerformanceAnalytics)\n",
        "  - Uso: Para realizar análises de desempenho de investimentos. Utilizamos essa biblioteca para calcular retornos e realizar outras operações relacionadas a desempenho de ativos financeiros.\n",
        "- [MASS](https://www.stats.ox.ac.uk/pub/MASS4/)\n",
        "  - Uso: Para gerar amostras de distribuições multivariadas. Utilizamos essa biblioteca para simular retornos futuros dos ativos utilizando a matriz de covariância estimada."
      ],
      "metadata": {
        "id": "i_nVcSmMRBCG"
      }
    },
    {
      "cell_type": "code",
      "execution_count": 61,
      "metadata": {
        "colab": {
          "base_uri": "https://localhost:8080/"
        },
        "id": "ANIF_U5YLqUe",
        "outputId": "3a49ac7e-f24f-4dcc-d928-5f8357e7a626"
      },
      "outputs": [
        {
          "output_type": "stream",
          "name": "stderr",
          "text": [
            "Installing package into ‘/usr/local/lib/R/site-library’\n",
            "(as ‘lib’ is unspecified)\n",
            "\n",
            "Installing package into ‘/usr/local/lib/R/site-library’\n",
            "(as ‘lib’ is unspecified)\n",
            "\n",
            "Installing package into ‘/usr/local/lib/R/site-library’\n",
            "(as ‘lib’ is unspecified)\n",
            "\n",
            "Installing package into ‘/usr/local/lib/R/site-library’\n",
            "(as ‘lib’ is unspecified)\n",
            "\n"
          ]
        }
      ],
      "source": [
        "install.packages(\"quantmod\")\n",
        "install.packages(\"tseries\")\n",
        "install.packages(\"PerformanceAnalytics\")\n",
        "install.packages(\"MASS\")"
      ]
    },
    {
      "cell_type": "code",
      "source": [
        "library(quantmod)\n",
        "library(tseries)\n",
        "library(PerformanceAnalytics)\n",
        "library(MASS)"
      ],
      "metadata": {
        "id": "TErZY-IcM5p4"
      },
      "execution_count": 62,
      "outputs": []
    },
    {
      "cell_type": "markdown",
      "source": [
        "### Definir os símbolos dos ativos"
      ],
      "metadata": {
        "id": "Ab064hL6RDuB"
      }
    },
    {
      "cell_type": "code",
      "source": [
        "simbolos <- c(\"PETR4.SA\", \"VALE3.SA\", \"ABEV3.SA\", \"BBAS3.SA\")"
      ],
      "metadata": {
        "id": "Wpam9dMtRKXR"
      },
      "execution_count": 63,
      "outputs": []
    },
    {
      "cell_type": "markdown",
      "source": [
        "### Obter os dados dos últimos 12 meses"
      ],
      "metadata": {
        "id": "VjyYY3R5ROhQ"
      }
    },
    {
      "cell_type": "markdown",
      "source": [
        "- getSymbols: Esta é uma função do pacote quantmod que importa dados financeiros de várias fontes. quantmod significa \"Quantitative Financial Modelling Framework\".\n",
        "- src = \"yahoo\": Este argumento define a fonte dos dados. \"yahoo\" indica que os dados serão importados do Yahoo Finance.\n",
        "- from = Sys.Date() - 365: Este argumento define a data de início para a importação dos dados. Sys.Date() retorna a data atual, e Sys.Date() - 365 calcula a data exatamente um ano antes da data atual. Assim, os dados serão importados a partir de um ano atrás.\n",
        "- to = Sys.Date(): Este argumento define a data final para a importação dos dados, que é a data atual (Sys.Date())."
      ],
      "metadata": {
        "id": "Wf6aKtQASCN3"
      }
    },
    {
      "cell_type": "markdown",
      "source": [
        "### Resumindo\n",
        "\n",
        "- Baixa os dados históricos para cada ativo, começando de Sys.Date() - 365 (um ano atrás) até Sys.Date() (data atual).\n",
        "- Armazena os dados em objetos no seu ambiente de trabalho cada objeto terá o nome correspondente ao símbolo do ativo."
      ],
      "metadata": {
        "id": "7K2I0Nm0UWlq"
      }
    },
    {
      "cell_type": "code",
      "source": [
        "getSymbols(simbolos, src = \"yahoo\", from = Sys.Date() - 365, to = Sys.Date())"
      ],
      "metadata": {
        "colab": {
          "base_uri": "https://localhost:8080/",
          "height": 34
        },
        "id": "0_MuwKGbRTis",
        "outputId": "e02ffe18-a77e-48e6-ed23-55c44d283524"
      },
      "execution_count": 64,
      "outputs": [
        {
          "output_type": "display_data",
          "data": {
            "text/html": [
              "<style>\n",
              ".list-inline {list-style: none; margin:0; padding: 0}\n",
              ".list-inline>li {display: inline-block}\n",
              ".list-inline>li:not(:last-child)::after {content: \"\\00b7\"; padding: 0 .5ex}\n",
              "</style>\n",
              "<ol class=list-inline><li>'PETR4.SA'</li><li>'VALE3.SA'</li><li>'ABEV3.SA'</li><li>'BBAS3.SA'</li></ol>\n"
            ],
            "text/markdown": "1. 'PETR4.SA'\n2. 'VALE3.SA'\n3. 'ABEV3.SA'\n4. 'BBAS3.SA'\n\n\n",
            "text/latex": "\\begin{enumerate*}\n\\item 'PETR4.SA'\n\\item 'VALE3.SA'\n\\item 'ABEV3.SA'\n\\item 'BBAS3.SA'\n\\end{enumerate*}\n",
            "text/plain": [
              "[1] \"PETR4.SA\" \"VALE3.SA\" \"ABEV3.SA\" \"BBAS3.SA\""
            ]
          },
          "metadata": {}
        }
      ]
    },
    {
      "cell_type": "markdown",
      "source": [
        "### Fechar os preços ajustados"
      ],
      "metadata": {
        "id": "iEGYlgihRXXg"
      }
    },
    {
      "cell_type": "markdown",
      "source": [
        "- lapply é uma função que aplica uma função a cada elemento de uma lista ou vetor. Aqui, ela está aplicando a função anônima function(sym) Ad(get(sym)) a cada símbolo em simbolos.\n",
        "- function(sym) Ad(get(sym)): Esta é uma função anônima que faz o seguinte para cada símbolo:\n",
        "  - get(sym): Recupera o objeto correspondente ao símbolo sym do ambiente de trabalho. Por exemplo, se sym é \"PETR4.SA\", get(\"PETR4.SA\") retorna o objeto PETR4.SA.\n",
        "  - Ad(get(sym)): Ad é uma função do quantmod que extrai a coluna de preços ajustados (Adjusted Close) de um objeto de série temporal. O preço ajustado considera eventos corporativos como dividendos e splits de ações.\n",
        "- O resultado de lapply é uma lista onde cada elemento é a série temporal dos preços ajustados para um dos símbolos.\n",
        "\n",
        "- do.call(merge, ...):\n",
        "  - do.call: Esta função executa uma função com argumentos especificados em uma lista. Aqui, ela está executando a função merge com os elementos da lista gerada por lapply como argumentos.\n",
        "  - merge: Combina múltiplas séries temporais em uma única série temporal multivariada. Isso significa que as séries de preços ajustados de todos os símbolos serão combinadas em um único objeto, com uma coluna para cada símbolo."
      ],
      "metadata": {
        "id": "kWUoK8dsYCW9"
      }
    },
    {
      "cell_type": "markdown",
      "source": [
        "### Resumo\n",
        "- A linha de código combina as séries temporais de preços ajustados de todos os ativos especificados em simbolos em um único objeto de série temporal multivariada. Cada coluna do objeto resultante contém os preços ajustados para um dos ativos."
      ],
      "metadata": {
        "id": "s0UaVuBMY-GL"
      }
    },
    {
      "cell_type": "code",
      "source": [
        "precos <- do.call(merge, lapply(simbolos, function(sym) Ad(get(sym))))"
      ],
      "metadata": {
        "id": "WxzGqfe-RjXz"
      },
      "execution_count": 65,
      "outputs": []
    },
    {
      "cell_type": "markdown",
      "source": [
        "### Visualizar os dados"
      ],
      "metadata": {
        "id": "IKdUvBZ5Rpu1"
      }
    },
    {
      "cell_type": "code",
      "source": [
        "head(precos)"
      ],
      "metadata": {
        "colab": {
          "base_uri": "https://localhost:8080/",
          "height": 271
        },
        "id": "kyGhIDgSRsx2",
        "outputId": "b90b99e3-ccd6-40d7-a1a3-c83bf233eb3f"
      },
      "execution_count": 66,
      "outputs": [
        {
          "output_type": "display_data",
          "data": {
            "text/plain": [
              "           PETR4.SA.Adjusted VALE3.SA.Adjusted ABEV3.SA.Adjusted\n",
              "2023-05-30          21.40385          59.13878          13.76073\n",
              "2023-05-31          21.18486          58.70638          13.69421\n",
              "2023-06-01          21.86615          59.94840          13.53265\n",
              "2023-06-02          22.04459          62.50605          13.74172\n",
              "2023-06-05          22.27979          61.99084          13.69421\n",
              "2023-06-06          22.75021          62.19324          14.08384\n",
              "           BBAS3.SA.Adjusted\n",
              "2023-05-30          21.00438\n",
              "2023-05-31          20.96679\n",
              "2023-06-01          21.02317\n",
              "2023-06-02          21.33525\n",
              "2023-06-05          21.46877\n",
              "2023-06-06          21.71674"
            ]
          },
          "metadata": {}
        }
      ]
    },
    {
      "cell_type": "markdown",
      "source": [
        "## 2. Estimar os Parâmetros do Modelo CER de Cada Ativo"
      ],
      "metadata": {
        "id": "XPr651VCRsJO"
      }
    },
    {
      "cell_type": "markdown",
      "source": [
        "- Primeiro, vamos calcular os retornos logarítmicos dos preços ajustados. Em seguida, estimamos a média e a variância desses retornos."
      ],
      "metadata": {
        "id": "IV2_6olxR9EP"
      }
    },
    {
      "cell_type": "markdown",
      "source": [
        "### Calcular retornos logarítmicos"
      ],
      "metadata": {
        "id": "A8I6UkJJSAiG"
      }
    },
    {
      "cell_type": "markdown",
      "source": [
        "- log(precos):\n",
        "  - Aplica a função logarítmica natural a cada elemento da matriz precos. precos contém os preços ajustados dos ativos, e log(precos) calcula o logaritmo natural desses preços. O logaritmo natural é frequentemente usado em finanças para converter os preços em uma escala que facilita a análise de retornos.\n",
        "- diff(log(precos)):\n",
        "  - Calcula a diferença entre valores consecutivos de log(precos). Esta operação retorna uma matriz de retornos logarítmicos. Os retornos logarítmicos são uma forma comum de medir os retornos de ativos porque têm propriedades matemáticas úteis, como a aditividade ao longo do tempo.\n",
        "- na.omit(...):\n",
        "  - Remove quaisquer valores NA da matriz resultante. A função diff produz um NA na primeira posição porque não há valor anterior para calcular a diferença. na.omit remove essas linhas contendo NA, resultando em uma matriz de retornos logarítmicos sem valores faltantes."
      ],
      "metadata": {
        "id": "BW0ESI0bZRf6"
      }
    },
    {
      "cell_type": "markdown",
      "source": [
        "### Resumo\n",
        "- Esta linha de código calcula os retornos logarítmicos dos preços ajustados dos ativos e remove quaisquer valores NA resultantes do cálculo das diferenças."
      ],
      "metadata": {
        "id": "jYYoG6B8Z7Kg"
      }
    },
    {
      "cell_type": "code",
      "source": [
        "retornos <- na.omit(diff(log(precos)))"
      ],
      "metadata": {
        "id": "7Doeit1hSDCM"
      },
      "execution_count": 67,
      "outputs": []
    },
    {
      "cell_type": "markdown",
      "source": [
        "### Função para identificar outliers usando o método IQR"
      ],
      "metadata": {
        "id": "N0RSZdHzJWX7"
      }
    },
    {
      "cell_type": "code",
      "source": [
        "identificar_outliers <- function(data) {\n",
        "  outliers <- apply(data, 2, function(col) {\n",
        "    Q1 <- quantile(col, 0.25)\n",
        "    Q3 <- quantile(col, 0.75)\n",
        "    IQR <- Q3 - Q1\n",
        "    lower_bound <- Q1 - 1.5 * IQR\n",
        "    upper_bound <- Q3 + 1.5 * IQR\n",
        "    col < lower_bound | col > upper_bound\n",
        "  })\n",
        "  return(outliers)\n",
        "}"
      ],
      "metadata": {
        "id": "ol4erm_fJUzc"
      },
      "execution_count": 68,
      "outputs": []
    },
    {
      "cell_type": "markdown",
      "source": [
        "### Função para tratar outliers (remover)"
      ],
      "metadata": {
        "id": "855I7DbeJdyd"
      }
    },
    {
      "cell_type": "code",
      "source": [
        "tratar_outliers <- function(data, outliers) {\n",
        "  for (i in seq_len(ncol(data))) {\n",
        "    data[outliers[, i], i] <- NA\n",
        "  }\n",
        "  return(na.omit(data))\n",
        "}"
      ],
      "metadata": {
        "id": "r3g5_PN5JcY2"
      },
      "execution_count": 69,
      "outputs": []
    },
    {
      "cell_type": "markdown",
      "source": [
        "  ### Identificar e tratar outliers"
      ],
      "metadata": {
        "id": "O_fFefAeJtbs"
      }
    },
    {
      "cell_type": "code",
      "source": [
        "outliers <- identificar_outliers(retornos)"
      ],
      "metadata": {
        "id": "c5wS_unHJlll"
      },
      "execution_count": 70,
      "outputs": []
    },
    {
      "cell_type": "markdown",
      "source": [
        "  ### Exibir os outliers identificados"
      ],
      "metadata": {
        "id": "eJZ1tD_iJ1f6"
      }
    },
    {
      "cell_type": "code",
      "source": [
        "cat(\"Outliers identificados:\\n\")\n",
        "for (i in seq_len(ncol(retornos))) {\n",
        "  outlier_indices <- which(outliers[, i])\n",
        "    if (length(outlier_indices) > 0) {\n",
        "      cat(colnames(retornos)[i], \":\", outlier_indices, \"\\n\")\n",
        "    }\n",
        "}"
      ],
      "metadata": {
        "colab": {
          "base_uri": "https://localhost:8080/"
        },
        "id": "n6r5sGCXJzF6",
        "outputId": "b5e83145-d727-4aec-bea1-0a59628ae187"
      },
      "execution_count": 71,
      "outputs": [
        {
          "output_type": "stream",
          "name": "stdout",
          "text": [
            "Outliers identificados:\n",
            "PETR4.SA.Adjusted : 7 17 22 41 43 60 89 101 186 193 239 \n",
            "VALE3.SA.Adjusted : 3 29 42 67 75 98 105 142 178 213 \n",
            "ABEV3.SA.Adjusted : 5 26 29 37 46 105 107 126 127 128 136 187 234 \n",
            "BBAS3.SA.Adjusted : 7 8 85 91 109 113 135 235 \n"
          ]
        }
      ]
    },
    {
      "cell_type": "markdown",
      "source": [
        "### Visualizar os outliers com boxplot"
      ],
      "metadata": {
        "id": "UztvmstHKD41"
      }
    },
    {
      "cell_type": "code",
      "source": [
        "par(mfrow = c(2, 2))\n",
        "for (i in seq_len(ncol(retornos))) {\n",
        "  boxplot(retornos[, i], main = colnames(retornos)[i], outline = TRUE)\n",
        "}"
      ],
      "metadata": {
        "colab": {
          "base_uri": "https://localhost:8080/",
          "height": 437
        },
        "id": "RER5Ni_7J_kV",
        "outputId": "f5110bda-3466-4f97-8f18-1783182c22fe"
      },
      "execution_count": 72,
      "outputs": [
        {
          "output_type": "display_data",
          "data": {
            "text/plain": [
              "Plot with title “BBAS3.SA.Adjusted”"
            ],
            "image/png": "[encoded data removed]"
          },
          "metadata": {
            "image/png": {
              "width": 420,
              "height": 420
            }
          }
        }
      ]
    },
    {
      "cell_type": "markdown",
      "source": [
        "### Estimar os parâmetros do modelo CER"
      ],
      "metadata": {
        "id": "tkIiU1dJSFID"
      }
    },
    {
      "cell_type": "markdown",
      "source": [
        "- colMeans(retornos):\n",
        "  - Calcula a média de cada coluna na matriz retornos. retornos é uma matriz onde cada coluna representa os retornos logarítmicos de um ativo diferente.\n",
        "  - colMeans retorna um vetor onde cada elemento é a média dos retornos para um ativo específico.\n",
        "- cov(retornos):\n",
        "  - Calcula a matriz de covariância dos retornos. A matriz de covariância descreve a variabilidade conjunta dos retornos dos ativos.\n",
        "  - cov retorna uma matriz quadrada onde cada elemento (i, j) representa a covariância entre os retornos dos ativos i e j."
      ],
      "metadata": {
        "id": "1D89yOkge5mp"
      }
    },
    {
      "cell_type": "markdown",
      "source": [
        "### Resumo\n",
        "- Estas linhas de código calculam as médias dos retornos e a matriz de covariância dos retornos, que são parâmetros essenciais para a análise de portfólio e simulações financeiras."
      ],
      "metadata": {
        "id": "eAwkaCJffMql"
      }
    },
    {
      "cell_type": "code",
      "source": [
        "retornos <- tratar_outliers(retornos, outliers)\n",
        "medias <- colMeans(retornos)\n",
        "cov_matrix <- cov(retornos)"
      ],
      "metadata": {
        "id": "zOaA3UjYSJu7"
      },
      "execution_count": 73,
      "outputs": []
    },
    {
      "cell_type": "markdown",
      "source": [
        "\n",
        "### Visualizar os parâmetros estimados"
      ],
      "metadata": {
        "id": "G_6K3k3FSNkA"
      }
    },
    {
      "cell_type": "code",
      "source": [
        "medias\n",
        "cov_matrix"
      ],
      "metadata": {
        "colab": {
          "base_uri": "https://localhost:8080/",
          "height": 209
        },
        "id": "Pg1iyGy2SQNm",
        "outputId": "51ea85b4-afc0-4ea6-8336-0af4f8f45d3a"
      },
      "execution_count": 74,
      "outputs": [
        {
          "output_type": "display_data",
          "data": {
            "text/html": [
              "<style>\n",
              ".dl-inline {width: auto; margin:0; padding: 0}\n",
              ".dl-inline>dt, .dl-inline>dd {float: none; width: auto; display: inline-block}\n",
              ".dl-inline>dt::after {content: \":\\0020\"; padding-right: .5ex}\n",
              ".dl-inline>dt:not(:first-of-type) {padding-left: .5ex}\n",
              "</style><dl class=dl-inline><dt>PETR4.SA.Adjusted</dt><dd>0.0032234117478407</dd><dt>VALE3.SA.Adjusted</dt><dd>-0.000920797416938593</dd><dt>ABEV3.SA.Adjusted</dt><dd>-0.000890610961676615</dd><dt>BBAS3.SA.Adjusted</dt><dd>0.000856846826808077</dd></dl>\n"
            ],
            "text/markdown": "PETR4.SA.Adjusted\n:   0.0032234117478407VALE3.SA.Adjusted\n:   -0.000920797416938593ABEV3.SA.Adjusted\n:   -0.000890610961676615BBAS3.SA.Adjusted\n:   0.000856846826808077\n\n",
            "text/latex": "\\begin{description*}\n\\item[PETR4.SA.Adjusted] 0.0032234117478407\n\\item[VALE3.SA.Adjusted] -0.000920797416938593\n\\item[ABEV3.SA.Adjusted] -0.000890610961676615\n\\item[BBAS3.SA.Adjusted] 0.000856846826808077\n\\end{description*}\n",
            "text/plain": [
              "PETR4.SA.Adjusted VALE3.SA.Adjusted ABEV3.SA.Adjusted BBAS3.SA.Adjusted \n",
              "     0.0032234117     -0.0009207974     -0.0008906110      0.0008568468 "
            ]
          },
          "metadata": {}
        },
        {
          "output_type": "display_data",
          "data": {
            "text/html": [
              "<table class=\"dataframe\">\n",
              "<caption>A matrix: 4 × 4 of type dbl</caption>\n",
              "<thead>\n",
              "\t<tr><th></th><th scope=col>PETR4.SA.Adjusted</th><th scope=col>VALE3.SA.Adjusted</th><th scope=col>ABEV3.SA.Adjusted</th><th scope=col>BBAS3.SA.Adjusted</th></tr>\n",
              "</thead>\n",
              "<tbody>\n",
              "\t<tr><th scope=row>PETR4.SA.Adjusted</th><td> 2.105042e-04</td><td>3.405974e-05</td><td>-3.244165e-06</td><td>3.408108e-05</td></tr>\n",
              "\t<tr><th scope=row>VALE3.SA.Adjusted</th><td> 3.405974e-05</td><td>1.672757e-04</td><td> 2.061143e-05</td><td>3.194790e-05</td></tr>\n",
              "\t<tr><th scope=row>ABEV3.SA.Adjusted</th><td>-3.244165e-06</td><td>2.061143e-05</td><td> 8.773650e-05</td><td>2.943518e-05</td></tr>\n",
              "\t<tr><th scope=row>BBAS3.SA.Adjusted</th><td> 3.408108e-05</td><td>3.194790e-05</td><td> 2.943518e-05</td><td>1.151868e-04</td></tr>\n",
              "</tbody>\n",
              "</table>\n"
            ],
            "text/markdown": "\nA matrix: 4 × 4 of type dbl\n\n| <!--/--> | PETR4.SA.Adjusted | VALE3.SA.Adjusted | ABEV3.SA.Adjusted | BBAS3.SA.Adjusted |\n|---|---|---|---|---|\n| PETR4.SA.Adjusted |  2.105042e-04 | 3.405974e-05 | -3.244165e-06 | 3.408108e-05 |\n| VALE3.SA.Adjusted |  3.405974e-05 | 1.672757e-04 |  2.061143e-05 | 3.194790e-05 |\n| ABEV3.SA.Adjusted | -3.244165e-06 | 2.061143e-05 |  8.773650e-05 | 2.943518e-05 |\n| BBAS3.SA.Adjusted |  3.408108e-05 | 3.194790e-05 |  2.943518e-05 | 1.151868e-04 |\n\n",
            "text/latex": "A matrix: 4 × 4 of type dbl\n\\begin{tabular}{r|llll}\n  & PETR4.SA.Adjusted & VALE3.SA.Adjusted & ABEV3.SA.Adjusted & BBAS3.SA.Adjusted\\\\\n\\hline\n\tPETR4.SA.Adjusted &  2.105042e-04 & 3.405974e-05 & -3.244165e-06 & 3.408108e-05\\\\\n\tVALE3.SA.Adjusted &  3.405974e-05 & 1.672757e-04 &  2.061143e-05 & 3.194790e-05\\\\\n\tABEV3.SA.Adjusted & -3.244165e-06 & 2.061143e-05 &  8.773650e-05 & 2.943518e-05\\\\\n\tBBAS3.SA.Adjusted &  3.408108e-05 & 3.194790e-05 &  2.943518e-05 & 1.151868e-04\\\\\n\\end{tabular}\n",
            "text/plain": [
              "                  PETR4.SA.Adjusted VALE3.SA.Adjusted ABEV3.SA.Adjusted\n",
              "PETR4.SA.Adjusted  2.105042e-04     3.405974e-05      -3.244165e-06    \n",
              "VALE3.SA.Adjusted  3.405974e-05     1.672757e-04       2.061143e-05    \n",
              "ABEV3.SA.Adjusted -3.244165e-06     2.061143e-05       8.773650e-05    \n",
              "BBAS3.SA.Adjusted  3.408108e-05     3.194790e-05       2.943518e-05    \n",
              "                  BBAS3.SA.Adjusted\n",
              "PETR4.SA.Adjusted 3.408108e-05     \n",
              "VALE3.SA.Adjusted 3.194790e-05     \n",
              "ABEV3.SA.Adjusted 2.943518e-05     \n",
              "BBAS3.SA.Adjusted 1.151868e-04     "
            ]
          },
          "metadata": {}
        }
      ]
    },
    {
      "cell_type": "markdown",
      "source": [
        "## 3. Verificar a Normalidade"
      ],
      "metadata": {
        "id": "LbZJonZvSVaI"
      }
    },
    {
      "cell_type": "markdown",
      "source": [
        "- Vamos utilizar o teste de Jarque-Bera para verificar a normalidade dos retornos."
      ],
      "metadata": {
        "id": "cHodCGXwSawU"
      }
    },
    {
      "cell_type": "markdown",
      "source": [
        "### Testar normalidade dos retornos"
      ],
      "metadata": {
        "id": "vvM4hg8zShta"
      }
    },
    {
      "cell_type": "markdown",
      "source": [
        "- apply: A função apply aplica uma função a margens específicas de um array ou matriz. No caso de retornos, que é uma matriz, apply aplica a função a cada coluna ou linha.\n",
        "- 2: O segundo argumento de apply especifica a margem ao longo da qual a função deve ser aplicada. 2 significa que a função será aplicada a cada coluna.\n",
        "- jarque.bera.test: Esta é a função que será aplicada a cada coluna de retornos. A função jarque.bera.test realiza o teste de Jarque-Bera para avaliar a normalidade de uma distribuição."
      ],
      "metadata": {
        "id": "AXEgeZPffXWC"
      }
    },
    {
      "cell_type": "code",
      "source": [
        "retornos <- na.omit(diff(log(precos)))"
      ],
      "metadata": {
        "id": "tEybaJxSrGD6"
      },
      "execution_count": 75,
      "outputs": []
    },
    {
      "cell_type": "code",
      "source": [
        "testes_normalidade <- apply(retornos, 2, jarque.bera.test)"
      ],
      "metadata": {
        "id": "OQkUlgjQSnrI"
      },
      "execution_count": 76,
      "outputs": []
    },
    {
      "cell_type": "markdown",
      "source": [
        "### Visualizar os resultados dos testes de normalidade"
      ],
      "metadata": {
        "id": "8j_pFnYfSp7d"
      }
    },
    {
      "cell_type": "code",
      "source": [
        "testes_normalidade"
      ],
      "metadata": {
        "colab": {
          "base_uri": "https://localhost:8080/",
          "height": 580
        },
        "id": "taGn7isCSsKW",
        "outputId": "ca04da77-0fec-4b58-a39d-f60ba5450a41"
      },
      "execution_count": 77,
      "outputs": [
        {
          "output_type": "display_data",
          "data": {
            "text/plain": [
              "$PETR4.SA.Adjusted\n",
              "\n",
              "\tJarque Bera Test\n",
              "\n",
              "data:  newX[, i]\n",
              "X-squared = 202.73, df = 2, p-value < 2.2e-16\n",
              "\n",
              "\n",
              "$VALE3.SA.Adjusted\n",
              "\n",
              "\tJarque Bera Test\n",
              "\n",
              "data:  newX[, i]\n",
              "X-squared = 26.123, df = 2, p-value = 2.125e-06\n",
              "\n",
              "\n",
              "$ABEV3.SA.Adjusted\n",
              "\n",
              "\tJarque Bera Test\n",
              "\n",
              "data:  newX[, i]\n",
              "X-squared = 125.89, df = 2, p-value < 2.2e-16\n",
              "\n",
              "\n",
              "$BBAS3.SA.Adjusted\n",
              "\n",
              "\tJarque Bera Test\n",
              "\n",
              "data:  newX[, i]\n",
              "X-squared = 19.217, df = 2, p-value = 6.716e-05\n",
              "\n"
            ]
          },
          "metadata": {}
        }
      ]
    },
    {
      "cell_type": "code",
      "source": [
        "resultados <- sapply(testes_normalidade, function(teste) {\n",
        "  if (teste$p.value > 0.05) {\n",
        "    return(\"Distribuição normal\")\n",
        "  } else {\n",
        "    return(\"Não é distribuição normal\")\n",
        "  }\n",
        "})\n",
        "return(resultados)"
      ],
      "metadata": {
        "colab": {
          "base_uri": "https://localhost:8080/",
          "height": 34
        },
        "id": "yKhG5He0LEPR",
        "outputId": "dd336b89-bea4-4292-8f5a-89ed229044a2"
      },
      "execution_count": 78,
      "outputs": [
        {
          "output_type": "display_data",
          "data": {
            "text/html": [
              "<style>\n",
              ".dl-inline {width: auto; margin:0; padding: 0}\n",
              ".dl-inline>dt, .dl-inline>dd {float: none; width: auto; display: inline-block}\n",
              ".dl-inline>dt::after {content: \":\\0020\"; padding-right: .5ex}\n",
              ".dl-inline>dt:not(:first-of-type) {padding-left: .5ex}\n",
              "</style><dl class=dl-inline><dt>PETR4.SA.Adjusted</dt><dd>'Não é distribuição normal'</dd><dt>VALE3.SA.Adjusted</dt><dd>'Não é distribuição normal'</dd><dt>ABEV3.SA.Adjusted</dt><dd>'Não é distribuição normal'</dd><dt>BBAS3.SA.Adjusted</dt><dd>'Não é distribuição normal'</dd></dl>\n"
            ],
            "text/markdown": "PETR4.SA.Adjusted\n:   'Não é distribuição normal'VALE3.SA.Adjusted\n:   'Não é distribuição normal'ABEV3.SA.Adjusted\n:   'Não é distribuição normal'BBAS3.SA.Adjusted\n:   'Não é distribuição normal'\n\n",
            "text/latex": "\\begin{description*}\n\\item[PETR4.SA.Adjusted] 'Não é distribuição normal'\n\\item[VALE3.SA.Adjusted] 'Não é distribuição normal'\n\\item[ABEV3.SA.Adjusted] 'Não é distribuição normal'\n\\item[BBAS3.SA.Adjusted] 'Não é distribuição normal'\n\\end{description*}\n",
            "text/plain": [
              "          PETR4.SA.Adjusted           VALE3.SA.Adjusted \n",
              "\"Não é distribuição normal\" \"Não é distribuição normal\" \n",
              "          ABEV3.SA.Adjusted           BBAS3.SA.Adjusted \n",
              "\"Não é distribuição normal\" \"Não é distribuição normal\" "
            ]
          },
          "metadata": {}
        }
      ]
    },
    {
      "cell_type": "markdown",
      "source": [
        "## 4. Calcular a Matriz de Correlação Empírica"
      ],
      "metadata": {
        "id": "2sDuHiTkSwtP"
      }
    },
    {
      "cell_type": "markdown",
      "source": [
        "- Vamos calcular a matriz de correlação entre os retornos dos ativos."
      ],
      "metadata": {
        "id": "tS8xVsuzSzth"
      }
    },
    {
      "cell_type": "markdown",
      "source": [
        "## Calcular matriz de correlação"
      ],
      "metadata": {
        "id": "gskiwc2AS1_x"
      }
    },
    {
      "cell_type": "code",
      "source": [
        "cor_matrix <- cor(retornos)"
      ],
      "metadata": {
        "id": "6WcnnFohS5EE"
      },
      "execution_count": 79,
      "outputs": []
    },
    {
      "cell_type": "markdown",
      "source": [
        "### Visualizar matriz de correlação"
      ],
      "metadata": {
        "id": "RNLuOnmNS7tg"
      }
    },
    {
      "cell_type": "code",
      "source": [
        "cor_matrix"
      ],
      "metadata": {
        "colab": {
          "base_uri": "https://localhost:8080/",
          "height": 192
        },
        "id": "4uSUGjzKS_dI",
        "outputId": "e21f3c57-5ff1-4e92-a377-1b32fafe92de"
      },
      "execution_count": 80,
      "outputs": [
        {
          "output_type": "display_data",
          "data": {
            "text/html": [
              "<table class=\"dataframe\">\n",
              "<caption>A matrix: 4 × 4 of type dbl</caption>\n",
              "<thead>\n",
              "\t<tr><th></th><th scope=col>PETR4.SA.Adjusted</th><th scope=col>VALE3.SA.Adjusted</th><th scope=col>ABEV3.SA.Adjusted</th><th scope=col>BBAS3.SA.Adjusted</th></tr>\n",
              "</thead>\n",
              "<tbody>\n",
              "\t<tr><th scope=row>PETR4.SA.Adjusted</th><td> 1.000000000</td><td>0.20024552</td><td>-0.005389126</td><td>0.2839549</td></tr>\n",
              "\t<tr><th scope=row>VALE3.SA.Adjusted</th><td> 0.200245523</td><td>1.00000000</td><td> 0.090892134</td><td>0.1658301</td></tr>\n",
              "\t<tr><th scope=row>ABEV3.SA.Adjusted</th><td>-0.005389126</td><td>0.09089213</td><td> 1.000000000</td><td>0.3685059</td></tr>\n",
              "\t<tr><th scope=row>BBAS3.SA.Adjusted</th><td> 0.283954853</td><td>0.16583007</td><td> 0.368505896</td><td>1.0000000</td></tr>\n",
              "</tbody>\n",
              "</table>\n"
            ],
            "text/markdown": "\nA matrix: 4 × 4 of type dbl\n\n| <!--/--> | PETR4.SA.Adjusted | VALE3.SA.Adjusted | ABEV3.SA.Adjusted | BBAS3.SA.Adjusted |\n|---|---|---|---|---|\n| PETR4.SA.Adjusted |  1.000000000 | 0.20024552 | -0.005389126 | 0.2839549 |\n| VALE3.SA.Adjusted |  0.200245523 | 1.00000000 |  0.090892134 | 0.1658301 |\n| ABEV3.SA.Adjusted | -0.005389126 | 0.09089213 |  1.000000000 | 0.3685059 |\n| BBAS3.SA.Adjusted |  0.283954853 | 0.16583007 |  0.368505896 | 1.0000000 |\n\n",
            "text/latex": "A matrix: 4 × 4 of type dbl\n\\begin{tabular}{r|llll}\n  & PETR4.SA.Adjusted & VALE3.SA.Adjusted & ABEV3.SA.Adjusted & BBAS3.SA.Adjusted\\\\\n\\hline\n\tPETR4.SA.Adjusted &  1.000000000 & 0.20024552 & -0.005389126 & 0.2839549\\\\\n\tVALE3.SA.Adjusted &  0.200245523 & 1.00000000 &  0.090892134 & 0.1658301\\\\\n\tABEV3.SA.Adjusted & -0.005389126 & 0.09089213 &  1.000000000 & 0.3685059\\\\\n\tBBAS3.SA.Adjusted &  0.283954853 & 0.16583007 &  0.368505896 & 1.0000000\\\\\n\\end{tabular}\n",
            "text/plain": [
              "                  PETR4.SA.Adjusted VALE3.SA.Adjusted ABEV3.SA.Adjusted\n",
              "PETR4.SA.Adjusted  1.000000000      0.20024552        -0.005389126     \n",
              "VALE3.SA.Adjusted  0.200245523      1.00000000         0.090892134     \n",
              "ABEV3.SA.Adjusted -0.005389126      0.09089213         1.000000000     \n",
              "BBAS3.SA.Adjusted  0.283954853      0.16583007         0.368505896     \n",
              "                  BBAS3.SA.Adjusted\n",
              "PETR4.SA.Adjusted 0.2839549        \n",
              "VALE3.SA.Adjusted 0.1658301        \n",
              "ABEV3.SA.Adjusted 0.3685059        \n",
              "BBAS3.SA.Adjusted 1.0000000        "
            ]
          },
          "metadata": {}
        }
      ]
    },
    {
      "cell_type": "markdown",
      "source": [
        "## 5. Comparar Resultados da Simulação MC do CER Correlacionado com Dados Históricos"
      ],
      "metadata": {
        "id": "NufDyfDdTC2y"
      }
    },
    {
      "cell_type": "markdown",
      "source": [
        "- Vamos simular os retornos dos ativos utilizando a matriz de correlação e comparar os resultados com os dados históricos."
      ],
      "metadata": {
        "id": "WknrDKARTGjO"
      }
    },
    {
      "cell_type": "markdown",
      "source": [
        "### Número de simulações"
      ],
      "metadata": {
        "id": "mm2iVZX7TJ8W"
      }
    },
    {
      "cell_type": "code",
      "source": [
        "numero_simulacoes <- 10000\n",
        "numeros_ativos <- ncol(retornos)\n",
        "numero_periodos <- nrow(retornos)"
      ],
      "metadata": {
        "id": "kn0AgNsVTMzX"
      },
      "execution_count": 81,
      "outputs": []
    },
    {
      "cell_type": "markdown",
      "source": [
        "### Simular retornos futuros usando Monte Carlo"
      ],
      "metadata": {
        "id": "BiP93BFBTO2F"
      }
    },
    {
      "cell_type": "code",
      "source": [
        "set.seed(123)\n",
        "retornos_simulados <- mvrnorm(numero_simulacoes * numero_periodos,\n",
        "                              mu = medias, Sigma = cov_matrix)\n",
        "retornos_simulados <- matrix(retornos_simulados,\n",
        "                             ncol = numeros_ativos, byrow = TRUE)"
      ],
      "metadata": {
        "id": "RYi5l2QTTSFV"
      },
      "execution_count": 82,
      "outputs": []
    },
    {
      "cell_type": "markdown",
      "source": [
        "### Comparar os retornos simulados com os retornos históricos"
      ],
      "metadata": {
        "id": "hK0hBOFhTUqT"
      }
    },
    {
      "cell_type": "code",
      "source": [
        "media_simulada <- colMeans(retornos_simulados)\n",
        "simulada_cov_matrix <- cov(retornos_simulados)"
      ],
      "metadata": {
        "id": "7Phz8KmkTV4z"
      },
      "execution_count": 83,
      "outputs": []
    },
    {
      "cell_type": "markdown",
      "source": [
        "### Visualizar comparação"
      ],
      "metadata": {
        "id": "4IAZiTv2TZ0L"
      }
    },
    {
      "cell_type": "code",
      "source": [
        "list(\n",
        "  MediaHistorica = medias,\n",
        "  MediaSimulada = media_simulada,\n",
        "  CovarianciaHistorica = cov_matrix,\n",
        "  CovarianciaSimulada = simulada_cov_matrix\n",
        ")"
      ],
      "metadata": {
        "colab": {
          "base_uri": "https://localhost:8080/",
          "height": 467
        },
        "id": "UBxPWPPtTXat",
        "outputId": "fb59f760-ad8b-4427-ccc1-3aad6a0fb0b0"
      },
      "execution_count": 84,
      "outputs": [
        {
          "output_type": "display_data",
          "data": {
            "text/html": [
              "<dl>\n",
              "\t<dt>$MediaHistorica</dt>\n",
              "\t\t<dd><style>\n",
              ".dl-inline {width: auto; margin:0; padding: 0}\n",
              ".dl-inline>dt, .dl-inline>dd {float: none; width: auto; display: inline-block}\n",
              ".dl-inline>dt::after {content: \":\\0020\"; padding-right: .5ex}\n",
              ".dl-inline>dt:not(:first-of-type) {padding-left: .5ex}\n",
              "</style><dl class=dl-inline><dt>PETR4.SA.Adjusted</dt><dd>0.0032234117478407</dd><dt>VALE3.SA.Adjusted</dt><dd>-0.000920797416938593</dd><dt>ABEV3.SA.Adjusted</dt><dd>-0.000890610961676615</dd><dt>BBAS3.SA.Adjusted</dt><dd>0.000856846826808077</dd></dl>\n",
              "</dd>\n",
              "\t<dt>$MediaSimulada</dt>\n",
              "\t\t<dd><style>\n",
              ".list-inline {list-style: none; margin:0; padding: 0}\n",
              ".list-inline>li {display: inline-block}\n",
              ".list-inline>li:not(:last-child)::after {content: \"\\00b7\"; padding: 0 .5ex}\n",
              "</style>\n",
              "<ol class=list-inline><li>0.000564259789004523</li><li>0.000569547810998526</li><li>0.000556606804236161</li><li>0.000562017715947021</li></ol>\n",
              "</dd>\n",
              "\t<dt>$CovarianciaHistorica</dt>\n",
              "\t\t<dd><table class=\"dataframe\">\n",
              "<caption>A matrix: 4 × 4 of type dbl</caption>\n",
              "<thead>\n",
              "\t<tr><th></th><th scope=col>PETR4.SA.Adjusted</th><th scope=col>VALE3.SA.Adjusted</th><th scope=col>ABEV3.SA.Adjusted</th><th scope=col>BBAS3.SA.Adjusted</th></tr>\n",
              "</thead>\n",
              "<tbody>\n",
              "\t<tr><th scope=row>PETR4.SA.Adjusted</th><td> 2.105042e-04</td><td>3.405974e-05</td><td>-3.244165e-06</td><td>3.408108e-05</td></tr>\n",
              "\t<tr><th scope=row>VALE3.SA.Adjusted</th><td> 3.405974e-05</td><td>1.672757e-04</td><td> 2.061143e-05</td><td>3.194790e-05</td></tr>\n",
              "\t<tr><th scope=row>ABEV3.SA.Adjusted</th><td>-3.244165e-06</td><td>2.061143e-05</td><td> 8.773650e-05</td><td>2.943518e-05</td></tr>\n",
              "\t<tr><th scope=row>BBAS3.SA.Adjusted</th><td> 3.408108e-05</td><td>3.194790e-05</td><td> 2.943518e-05</td><td>1.151868e-04</td></tr>\n",
              "</tbody>\n",
              "</table>\n",
              "</dd>\n",
              "\t<dt>$CovarianciaSimulada</dt>\n",
              "\t\t<dd><table class=\"dataframe\">\n",
              "<caption>A matrix: 4 × 4 of type dbl</caption>\n",
              "<tbody>\n",
              "\t<tr><td>1.480104e-04</td><td>2.943661e-06</td><td>2.887891e-06</td><td>2.732655e-06</td></tr>\n",
              "\t<tr><td>2.943661e-06</td><td>1.481427e-04</td><td>2.797865e-06</td><td>2.870482e-06</td></tr>\n",
              "\t<tr><td>2.887891e-06</td><td>2.797865e-06</td><td>1.480120e-04</td><td>2.686859e-06</td></tr>\n",
              "\t<tr><td>2.732655e-06</td><td>2.870482e-06</td><td>2.686859e-06</td><td>1.480353e-04</td></tr>\n",
              "</tbody>\n",
              "</table>\n",
              "</dd>\n",
              "</dl>\n"
            ],
            "text/markdown": "$MediaHistorica\n:   PETR4.SA.Adjusted\n:   0.0032234117478407VALE3.SA.Adjusted\n:   -0.000920797416938593ABEV3.SA.Adjusted\n:   -0.000890610961676615BBAS3.SA.Adjusted\n:   0.000856846826808077\n\n\n$MediaSimulada\n:   1. 0.000564259789004523\n2. 0.000569547810998526\n3. 0.000556606804236161\n4. 0.000562017715947021\n\n\n\n$CovarianciaHistorica\n:   \nA matrix: 4 × 4 of type dbl\n\n| <!--/--> | PETR4.SA.Adjusted | VALE3.SA.Adjusted | ABEV3.SA.Adjusted | BBAS3.SA.Adjusted |\n|---|---|---|---|---|\n| PETR4.SA.Adjusted |  2.105042e-04 | 3.405974e-05 | -3.244165e-06 | 3.408108e-05 |\n| VALE3.SA.Adjusted |  3.405974e-05 | 1.672757e-04 |  2.061143e-05 | 3.194790e-05 |\n| ABEV3.SA.Adjusted | -3.244165e-06 | 2.061143e-05 |  8.773650e-05 | 2.943518e-05 |\n| BBAS3.SA.Adjusted |  3.408108e-05 | 3.194790e-05 |  2.943518e-05 | 1.151868e-04 |\n\n\n$CovarianciaSimulada\n:   \nA matrix: 4 × 4 of type dbl\n\n| 1.480104e-04 | 2.943661e-06 | 2.887891e-06 | 2.732655e-06 |\n| 2.943661e-06 | 1.481427e-04 | 2.797865e-06 | 2.870482e-06 |\n| 2.887891e-06 | 2.797865e-06 | 1.480120e-04 | 2.686859e-06 |\n| 2.732655e-06 | 2.870482e-06 | 2.686859e-06 | 1.480353e-04 |\n\n\n\n\n",
            "text/latex": "\\begin{description}\n\\item[\\$MediaHistorica] \\begin{description*}\n\\item[PETR4.SA.Adjusted] 0.0032234117478407\n\\item[VALE3.SA.Adjusted] -0.000920797416938593\n\\item[ABEV3.SA.Adjusted] -0.000890610961676615\n\\item[BBAS3.SA.Adjusted] 0.000856846826808077\n\\end{description*}\n\n\\item[\\$MediaSimulada] \\begin{enumerate*}\n\\item 0.000564259789004523\n\\item 0.000569547810998526\n\\item 0.000556606804236161\n\\item 0.000562017715947021\n\\end{enumerate*}\n\n\\item[\\$CovarianciaHistorica] A matrix: 4 × 4 of type dbl\n\\begin{tabular}{r|llll}\n  & PETR4.SA.Adjusted & VALE3.SA.Adjusted & ABEV3.SA.Adjusted & BBAS3.SA.Adjusted\\\\\n\\hline\n\tPETR4.SA.Adjusted &  2.105042e-04 & 3.405974e-05 & -3.244165e-06 & 3.408108e-05\\\\\n\tVALE3.SA.Adjusted &  3.405974e-05 & 1.672757e-04 &  2.061143e-05 & 3.194790e-05\\\\\n\tABEV3.SA.Adjusted & -3.244165e-06 & 2.061143e-05 &  8.773650e-05 & 2.943518e-05\\\\\n\tBBAS3.SA.Adjusted &  3.408108e-05 & 3.194790e-05 &  2.943518e-05 & 1.151868e-04\\\\\n\\end{tabular}\n\n\\item[\\$CovarianciaSimulada] A matrix: 4 × 4 of type dbl\n\\begin{tabular}{llll}\n\t 1.480104e-04 & 2.943661e-06 & 2.887891e-06 & 2.732655e-06\\\\\n\t 2.943661e-06 & 1.481427e-04 & 2.797865e-06 & 2.870482e-06\\\\\n\t 2.887891e-06 & 2.797865e-06 & 1.480120e-04 & 2.686859e-06\\\\\n\t 2.732655e-06 & 2.870482e-06 & 2.686859e-06 & 1.480353e-04\\\\\n\\end{tabular}\n\n\\end{description}\n",
            "text/plain": [
              "$MediaHistorica\n",
              "PETR4.SA.Adjusted VALE3.SA.Adjusted ABEV3.SA.Adjusted BBAS3.SA.Adjusted \n",
              "     0.0032234117     -0.0009207974     -0.0008906110      0.0008568468 \n",
              "\n",
              "$MediaSimulada\n",
              "[1] 0.0005642598 0.0005695478 0.0005566068 0.0005620177\n",
              "\n",
              "$CovarianciaHistorica\n",
              "                  PETR4.SA.Adjusted VALE3.SA.Adjusted ABEV3.SA.Adjusted\n",
              "PETR4.SA.Adjusted      2.105042e-04      3.405974e-05     -3.244165e-06\n",
              "VALE3.SA.Adjusted      3.405974e-05      1.672757e-04      2.061143e-05\n",
              "ABEV3.SA.Adjusted     -3.244165e-06      2.061143e-05      8.773650e-05\n",
              "BBAS3.SA.Adjusted      3.408108e-05      3.194790e-05      2.943518e-05\n",
              "                  BBAS3.SA.Adjusted\n",
              "PETR4.SA.Adjusted      3.408108e-05\n",
              "VALE3.SA.Adjusted      3.194790e-05\n",
              "ABEV3.SA.Adjusted      2.943518e-05\n",
              "BBAS3.SA.Adjusted      1.151868e-04\n",
              "\n",
              "$CovarianciaSimulada\n",
              "             [,1]         [,2]         [,3]         [,4]\n",
              "[1,] 1.480104e-04 2.943661e-06 2.887891e-06 2.732655e-06\n",
              "[2,] 2.943661e-06 1.481427e-04 2.797865e-06 2.870482e-06\n",
              "[3,] 2.887891e-06 2.797865e-06 1.480120e-04 2.686859e-06\n",
              "[4,] 2.732655e-06 2.870482e-06 2.686859e-06 1.480353e-04\n"
            ]
          },
          "metadata": {}
        }
      ]
    },
    {
      "cell_type": "markdown",
      "source": [
        "## 6. Estimar Valores dos Ativos em Dezembro/2024"
      ],
      "metadata": {
        "id": "kf80WWh1Tf7A"
      }
    },
    {
      "cell_type": "markdown",
      "source": [
        "- Vamos projetar os preços dos ativos para dezembro de 2024 utilizando os parâmetros estimados."
      ],
      "metadata": {
        "id": "CeIrz7ueTips"
      }
    },
    {
      "cell_type": "markdown",
      "source": [
        "### Período de projeção (restante do ano)"
      ],
      "metadata": {
        "id": "zUnPI-_wTmD-"
      }
    },
    {
      "cell_type": "code",
      "source": [
        "periodo_projetado <- as.integer(difftime(as.Date(\"2024-12-31\"), Sys.Date(), units = \"days\"))"
      ],
      "metadata": {
        "id": "2YNKkYNvTpCN"
      },
      "execution_count": 85,
      "outputs": []
    },
    {
      "cell_type": "markdown",
      "source": [
        "### Estimar valores futuros usando a média e covariância dos retornos"
      ],
      "metadata": {
        "id": "RjvlfciJTr2h"
      }
    },
    {
      "cell_type": "code",
      "source": [
        "precos_simulados <- matrix(0, nrow = numero_simulacoes, ncol = numeros_ativos)\n",
        "precos_atuais <- tail(precos, 1)"
      ],
      "metadata": {
        "id": "TDx8-eEETuVr"
      },
      "execution_count": 86,
      "outputs": []
    },
    {
      "cell_type": "code",
      "source": [
        "for (i in 1:numero_simulacoes) {\n",
        "  retornos_futuros <- mvrnorm(periodo_projetado, mu = medias / 252, Sigma = cov_matrix / 252)\n",
        "  retornos_futuros_cum <- apply(retornos_futuros, 2, cumsum)\n",
        "  precos_simulados[i, ] <- precos_atuais * exp(tail(retornos_futuros_cum, 1))\n",
        "}"
      ],
      "metadata": {
        "id": "agaiq-JATw0h"
      },
      "execution_count": 87,
      "outputs": []
    },
    {
      "cell_type": "markdown",
      "source": [
        "### Estimar os valores médios futuros em dezembro/2024"
      ],
      "metadata": {
        "id": "KbU2ZpqYT0pa"
      }
    },
    {
      "cell_type": "code",
      "source": [
        "precos_futuros_estimados <- colMeans(precos_simulados)"
      ],
      "metadata": {
        "id": "HDnVYnEdT2yK"
      },
      "execution_count": 88,
      "outputs": []
    },
    {
      "cell_type": "markdown",
      "source": [
        "### Visualizar os valores estimados"
      ],
      "metadata": {
        "id": "au0kcFoxT5cO"
      }
    },
    {
      "cell_type": "code",
      "source": [
        "data.frame(\n",
        "  Ativos = simbolos,\n",
        "  PrecoAtuais = as.numeric(precos_atuais),\n",
        "  Preco_Futuro_Estimado = precos_futuros_estimados\n",
        ")"
      ],
      "metadata": {
        "colab": {
          "base_uri": "https://localhost:8080/",
          "height": 223
        },
        "id": "zsGh8ntnT7pi",
        "outputId": "1e401726-a5f2-4b85-d357-c0551cc25090"
      },
      "execution_count": 89,
      "outputs": [
        {
          "output_type": "display_data",
          "data": {
            "text/html": [
              "<table class=\"dataframe\">\n",
              "<caption>A data.frame: 4 × 3</caption>\n",
              "<thead>\n",
              "\t<tr><th scope=col>Ativos</th><th scope=col>PrecoAtuais</th><th scope=col>Preco_Futuro_Estimado</th></tr>\n",
              "\t<tr><th scope=col>&lt;chr&gt;</th><th scope=col>&lt;dbl&gt;</th><th scope=col>&lt;dbl&gt;</th></tr>\n",
              "</thead>\n",
              "<tbody>\n",
              "\t<tr><td>PETR4.SA</td><td>37.80</td><td>37.90583</td></tr>\n",
              "\t<tr><td>VALE3.SA</td><td>63.89</td><td>63.83964</td></tr>\n",
              "\t<tr><td>ABEV3.SA</td><td>11.59</td><td>11.58119</td></tr>\n",
              "\t<tr><td>BBAS3.SA</td><td>27.32</td><td>27.34189</td></tr>\n",
              "</tbody>\n",
              "</table>\n"
            ],
            "text/markdown": "\nA data.frame: 4 × 3\n\n| Ativos &lt;chr&gt; | PrecoAtuais &lt;dbl&gt; | Preco_Futuro_Estimado &lt;dbl&gt; |\n|---|---|---|\n| PETR4.SA | 37.80 | 37.90583 |\n| VALE3.SA | 63.89 | 63.83964 |\n| ABEV3.SA | 11.59 | 11.58119 |\n| BBAS3.SA | 27.32 | 27.34189 |\n\n",
            "text/latex": "A data.frame: 4 × 3\n\\begin{tabular}{lll}\n Ativos & PrecoAtuais & Preco\\_Futuro\\_Estimado\\\\\n <chr> & <dbl> & <dbl>\\\\\n\\hline\n\t PETR4.SA & 37.80 & 37.90583\\\\\n\t VALE3.SA & 63.89 & 63.83964\\\\\n\t ABEV3.SA & 11.59 & 11.58119\\\\\n\t BBAS3.SA & 27.32 & 27.34189\\\\\n\\end{tabular}\n",
            "text/plain": [
              "  Ativos   PrecoAtuais Preco_Futuro_Estimado\n",
              "1 PETR4.SA 37.80       37.90583             \n",
              "2 VALE3.SA 63.89       63.83964             \n",
              "3 ABEV3.SA 11.59       11.58119             \n",
              "4 BBAS3.SA 27.32       27.34189             "
            ]
          },
          "metadata": {}
        }
      ]
    }
  ]
}
